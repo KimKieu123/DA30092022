{
 "cells": [
  {
   "cell_type": "code",
   "execution_count": 1,
   "id": "63055513",
   "metadata": {},
   "outputs": [
    {
     "name": "stdout",
     "output_type": "stream",
     "text": [
      "['_dom_classes', '_model_module', '_model_module_version', '_model_name', '_view_count', '_view_module', '_view_module_version', '_view_name', 'continuous_update', 'description', 'description_tooltip', 'disabled', 'layout', 'max', 'min', 'orientation', 'readout', 'readout_format', 'step', 'style', 'value']\n"
     ]
    },
    {
     "data": {
      "application/vnd.jupyter.widget-view+json": {
       "model_id": "6f0a0762e6e1446884e3635954ca14fc",
       "version_major": 2,
       "version_minor": 0
      },
      "text/plain": [
       "IntSlider(value=16, description='VD IntSlider', max=20, min=10)"
      ]
     },
     "metadata": {},
     "output_type": "display_data"
    }
   ],
   "source": [
    "#THANH TRƯỢT\n",
    "import ipywidgets as widgets\n",
    "#int: số nguyên     slider:thanh trượt\n",
    "aaa = widgets.IntSlider(\n",
    "    description='VD IntSlider',\n",
    "    min=10, \n",
    "    max=20, \n",
    "    step=1, \n",
    "    value=16,\n",
    "    orientation='horizontal')\n",
    "\n",
    "#min và max giá trị slider trả về, step: bước nhảy, \n",
    "#value giá trị mặc định nếu ko thay đổi gì, orientation \n",
    "#print(keys) trả về các tham số của slider\n",
    "\n",
    "print(aaa.keys)\n",
    "\n",
    "display(aaa)\n"
   ]
  },
  {
   "cell_type": "code",
   "execution_count": 5,
   "id": "0492560b",
   "metadata": {},
   "outputs": [
    {
     "data": {
      "application/vnd.jupyter.widget-view+json": {
       "model_id": "5b8ae93dd9d84f0c9ffa2612f1800a96",
       "version_major": 2,
       "version_minor": 0
      },
      "text/plain": [
       "FloatSlider(value=10.0, description='VD FloatSlider', max=20.0, min=10.0, readout_format='.1f')"
      ]
     },
     "metadata": {},
     "output_type": "display_data"
    }
   ],
   "source": [
    "#số thực\n",
    "FloatSlider = widgets.FloatSlider(\n",
    "    description='VD FloatSlider',\n",
    "    min=10, \n",
    "    max=20, \n",
    "    step=0.1, \n",
    "    value=7.5,\n",
    "    disabled = False,\n",
    "    continous_Update = False,\n",
    "    readout = True,\n",
    "    readout_format = \".1f\", \n",
    "    orientation='horizontal')\n",
    "display(FloatSlider) \n",
    "#disabel = True ko thể di chuyển chuột đc\n",
    "#continous_Update: hiển thị 1 giá trị khác\n",
    "#readout: hiển thị giá trị trên màn hình\n",
    "# .1f hiển thị 1 số thập phân"
   ]
  },
  {
   "cell_type": "code",
   "execution_count": null,
   "id": "0ac914b0",
   "metadata": {},
   "outputs": [],
   "source": [
    "#ô điền số\n"
   ]
  },
  {
   "cell_type": "code",
   "execution_count": 8,
   "id": "2885b3fd",
   "metadata": {},
   "outputs": [
    {
     "data": {
      "application/vnd.jupyter.widget-view+json": {
       "model_id": "1c7e54f8a3114ff5990ab5899ffc9a22",
       "version_major": 2,
       "version_minor": 0
      },
      "text/plain": [
       "IntText(value=7, continuous_update=True, description='Hãy điền số:')"
      ]
     },
     "metadata": {},
     "output_type": "display_data"
    }
   ],
   "source": [
    "#ô điền số nguyên\n",
    "IntText = widgets.IntText(\n",
    "    value=7,\n",
    "    description='Hãy điền số:',\n",
    "    disabled=False,\n",
    "    continuous_update = True\n",
    ")\n",
    "# print(IntText.keys)\n",
    "\n",
    "display(IntText)\n"
   ]
  },
  {
   "cell_type": "code",
   "execution_count": 9,
   "id": "241a5c45",
   "metadata": {},
   "outputs": [
    {
     "data": {
      "application/vnd.jupyter.widget-view+json": {
       "model_id": "573353d15bd940b78e23697edff09d1b",
       "version_major": 2,
       "version_minor": 0
      },
      "text/plain": [
       "FloatText(value=7.5, description='Điền số float:', step=0.01)"
      ]
     },
     "metadata": {},
     "output_type": "display_data"
    }
   ],
   "source": [
    "#Điền số thực\n",
    "FloatText = widgets.FloatText(\n",
    "    value=7.5,\n",
    "    description='Điền số float:',\n",
    "    disabled=False,\n",
    "    step = 0.01\n",
    ")\n",
    "# print(FloatText.keys)\n",
    "\n",
    "display(FloatText)\n"
   ]
  },
  {
   "cell_type": "code",
   "execution_count": null,
   "id": "e7ad02d0",
   "metadata": {},
   "outputs": [],
   "source": [
    "#nhập chữ"
   ]
  },
  {
   "cell_type": "code",
   "execution_count": 11,
   "id": "62eec550",
   "metadata": {},
   "outputs": [
    {
     "data": {
      "application/vnd.jupyter.widget-view+json": {
       "model_id": "3aecbe70073c42e4bdaeb2deac8e580a",
       "version_major": 2,
       "version_minor": 0
      },
      "text/plain": [
       "Text(value='', description='String:', placeholder='Type something')"
      ]
     },
     "metadata": {},
     "output_type": "display_data"
    }
   ],
   "source": [
    "#nhập ít chữ\n",
    "Text = widgets.Text(\n",
    "    value='',\n",
    "    placeholder='Type something',\n",
    "    description='String:',\n",
    "    disabled=False\n",
    ")\n",
    "# print(aaa.keys)\n",
    "display(Text)\n"
   ]
  },
  {
   "cell_type": "code",
   "execution_count": 12,
   "id": "ea889771",
   "metadata": {},
   "outputs": [
    {
     "data": {
      "application/vnd.jupyter.widget-view+json": {
       "model_id": "021a71cd056d4e49a2e96ede2bf80a15",
       "version_major": 2,
       "version_minor": 0
      },
      "text/plain": [
       "Textarea(value='Hello World', description='String:', placeholder='Type something')"
      ]
     },
     "metadata": {},
     "output_type": "display_data"
    }
   ],
   "source": [
    "#nhập nhiều chữ\n",
    "TextArea = widgets.Textarea(\n",
    "    value='Hello World',\n",
    "    placeholder='Type something',\n",
    "    description='String:',\n",
    "    disabled=False\n",
    ")\n",
    "# print(aaa.keys)\n",
    "display(TextArea)\n",
    "#có thể kéo mở rộng khung nhập"
   ]
  },
  {
   "cell_type": "code",
   "execution_count": null,
   "id": "4c08b470",
   "metadata": {},
   "outputs": [],
   "source": [
    "#lựa chọn nhị phân"
   ]
  },
  {
   "cell_type": "code",
   "execution_count": 13,
   "id": "da79c58b",
   "metadata": {},
   "outputs": [
    {
     "data": {
      "application/vnd.jupyter.widget-view+json": {
       "model_id": "673c27a6263140c3b496ec738910659b",
       "version_major": 2,
       "version_minor": 0
      },
      "text/plain": [
       "ToggleButton(value=False, description='HomePage', icon='home', tooltip='Nó hiện ra tooltip như thế này')"
      ]
     },
     "metadata": {},
     "output_type": "display_data"
    }
   ],
   "source": [
    "#lựa chọn True/False (togger button)\n",
    "ToggleButton = widgets.ToggleButton(\n",
    "    value=False,\n",
    "    description='HomePage',\n",
    "    disabled=False,\n",
    "    button_style='', # 'success', 'info', 'warning', 'danger' or ''\n",
    "    tooltip='Nó hiện ra tooltip như thế này',\n",
    "    icon='home'\n",
    ")\n",
    "\n",
    "# print(aaa.keys)\n",
    "\n",
    "display(ToggleButton)\n"
   ]
  },
  {
   "cell_type": "code",
   "execution_count": 14,
   "id": "e58c6e99",
   "metadata": {},
   "outputs": [
    {
     "data": {
      "application/vnd.jupyter.widget-view+json": {
       "model_id": "8e1c8b902eed4b8f88510ff38372d557",
       "version_major": 2,
       "version_minor": 0
      },
      "text/plain": [
       "Checkbox(value=False, description='Tôi đồng ý điều khoản sử dụng dịch vụ')"
      ]
     },
     "metadata": {},
     "output_type": "display_data"
    }
   ],
   "source": [
    "#checkbox\n",
    "Checkbox = widgets.Checkbox(\n",
    "    value=False,\n",
    "    description='Tôi đồng ý điều khoản sử dụng dịch vụ',\n",
    "    disabled=False\n",
    ")\n",
    "# print(aaa.keys)\n",
    "display(Checkbox)\n"
   ]
  },
  {
   "cell_type": "code",
   "execution_count": null,
   "id": "79bb63b7",
   "metadata": {},
   "outputs": [],
   "source": [
    "#lựa chọn 1 trong nhiều đáp án"
   ]
  },
  {
   "cell_type": "code",
   "execution_count": 24,
   "id": "a527c6c9",
   "metadata": {},
   "outputs": [
    {
     "data": {
      "application/vnd.jupyter.widget-view+json": {
       "model_id": "7ed5b1c9142f469c803392e48f80222e",
       "version_major": 2,
       "version_minor": 0
      },
      "text/plain": [
       "Dropdown(description='Number:', options=(1, 2, 3), value=None)"
      ]
     },
     "metadata": {},
     "output_type": "display_data"
    }
   ],
   "source": [
    "#drop down\n",
    "Dropdown=widgets.Dropdown(\n",
    "    options=[1, \"2\", 3], #có thể mix các giá trị\n",
    "    description='Number:',\n",
    "    value = None, #giá trị mặc định có thể là none==> ko hiển thị gì\n",
    "    disabled=False,\n",
    ")\n",
    "# print(aaa.keys)\n",
    "display(Dropdown)\n"
   ]
  },
  {
   "cell_type": "code",
   "execution_count": 21,
   "id": "e575285c",
   "metadata": {},
   "outputs": [
    {
     "data": {
      "text/plain": [
       "1"
      ]
     },
     "execution_count": 21,
     "metadata": {},
     "output_type": "execute_result"
    }
   ],
   "source": [
    "Dropdown.value #giá trị output"
   ]
  },
  {
   "cell_type": "code",
   "execution_count": 25,
   "id": "029f2e67",
   "metadata": {},
   "outputs": [
    {
     "data": {
      "application/vnd.jupyter.widget-view+json": {
       "model_id": "4b3e3a4c897c43178be39240b93fb06c",
       "version_major": 2,
       "version_minor": 0
      },
      "text/plain": [
       "Dropdown(description='Number:', index=1, options=(('One', 1), ('Two', 2), ('Three', 3)), value=2)"
      ]
     },
     "metadata": {},
     "output_type": "display_data"
    }
   ],
   "source": [
    "#Chú ý giá trị hiển thị và giá trị output là khác nhau\n",
    "aaa=widgets.Dropdown(\n",
    "    options=[('One', 1), ('Two', 2), ('Three', 3)],\n",
    "    value=2,\n",
    "    description='Number:',\n",
    ")\n",
    "#Tuple\n",
    "# print(aaa.keys)\n",
    "display(aaa)\n"
   ]
  },
  {
   "cell_type": "code",
   "execution_count": 26,
   "id": "6156a797",
   "metadata": {},
   "outputs": [
    {
     "data": {
      "text/plain": [
       "2"
      ]
     },
     "execution_count": 26,
     "metadata": {},
     "output_type": "execute_result"
    }
   ],
   "source": [
    "aaa.value"
   ]
  },
  {
   "cell_type": "code",
   "execution_count": null,
   "id": "2d929034",
   "metadata": {},
   "outputs": [],
   "source": [
    "#combo box"
   ]
  },
  {
   "cell_type": "code",
   "execution_count": 27,
   "id": "c8e9b356",
   "metadata": {},
   "outputs": [
    {
     "data": {
      "application/vnd.jupyter.widget-view+json": {
       "model_id": "71ffdfe4be8b4e188ed9bc62dfa209f6",
       "version_major": 2,
       "version_minor": 0
      },
      "text/plain": [
       "Combobox(value='John', description='Combobox:', ensure_option=True, options=('Paul', 'John', 'George', 'Ringo'…"
      ]
     },
     "metadata": {},
     "output_type": "display_data"
    }
   ],
   "source": [
    "aaa = widgets.Combobox(\n",
    "    value='John',\n",
    "    placeholder='Choose Someone',\n",
    "    options=['Paul', 'John', 'George', 'Ringo'],\n",
    "    description='Combobox:',\n",
    "    ensure_option=True,\n",
    "    disabled=False\n",
    ")\n",
    "# print(aaa.keys)\n",
    "display(aaa)\n",
    "#có thể xóa nhập nhưng phải đúng giá trị trong combo"
   ]
  },
  {
   "cell_type": "code",
   "execution_count": 28,
   "id": "1af32524",
   "metadata": {},
   "outputs": [
    {
     "data": {
      "application/vnd.jupyter.widget-view+json": {
       "model_id": "8927df9eb8fc49248ea8dd3fa1cad087",
       "version_major": 2,
       "version_minor": 0
      },
      "text/plain": [
       "RadioButtons(description='Pizza topping:', options=('pepperoni', 'pineapple', 'anchovies'), value='pepperoni')"
      ]
     },
     "metadata": {},
     "output_type": "display_data"
    }
   ],
   "source": [
    "#radio button\n",
    "aaa = widgets.RadioButtons(\n",
    "    options=['pepperoni', 'pineapple', 'anchovies'],\n",
    "#     value='pineapple',\n",
    "    description='Pizza topping:',\n",
    "    disabled=False\n",
    ")\n",
    "# print(aaa.keys)\n",
    "display(aaa)\n"
   ]
  },
  {
   "cell_type": "code",
   "execution_count": 31,
   "id": "b93e1895",
   "metadata": {},
   "outputs": [
    {
     "data": {
      "application/vnd.jupyter.widget-view+json": {
       "model_id": "952fb20d85f647519385a754e0fc6246",
       "version_major": 2,
       "version_minor": 0
      },
      "text/plain": [
       "interactive(children=(IntSlider(value=16, description='IntSlider', max=20, min=10), Output()), _dom_classes=('…"
      ]
     },
     "metadata": {},
     "output_type": "display_data"
    }
   ],
   "source": [
    "#thực hành\n",
    "from ipywidgets import interact\n",
    "\n",
    "vidu1 = widgets.IntSlider(\n",
    "    description='IntSlider',\n",
    "    min=10, \n",
    "    max=20, \n",
    "    step=1, \n",
    "    value=16,\n",
    "    orientation='horizontal',\n",
    "    continuous_update = True)\n",
    "\n",
    "#@interact(x=vidu1) # = interact(my_function, x=vidu1);\n",
    "def my_function(x):\n",
    "    print('Giá trị là:', x*2)\n",
    "\n",
    "interact(my_function, x=vidu1);\n",
    "#continuous_update = False khi thay đổi giá trị thì print trong def myfunction ko thay đổi\n"
   ]
  },
  {
   "cell_type": "code",
   "execution_count": 38,
   "id": "03cf8430",
   "metadata": {},
   "outputs": [],
   "source": [
    "#Tạo dữ liệu\n",
    "x = [1, 2, 3, 4, 5, 6, 7, 8, 9, 10]\n",
    "y1 = [12.2, 16.3, 20.5, 25.4, 31.2, 14.2, 24, 19.5, 28.1, 21.7]\n",
    "y2 = [2000, 4000, 1200, 3200, 5600, 2300, 3600, 2500, 3100, 3000]\n",
    "y3 = [1220, 1630, 2050, 2540, 3120, 1420, 2400, 1905, 2810, 2170]\n"
   ]
  },
  {
   "cell_type": "code",
   "execution_count": 41,
   "id": "4d1a0447",
   "metadata": {},
   "outputs": [
    {
     "data": {
      "application/vnd.jupyter.widget-view+json": {
       "model_id": "60176bb97feb4f2f84aa55a820c5eb0e",
       "version_major": 2,
       "version_minor": 0
      },
      "text/plain": [
       "interactive(children=(Dropdown(description='Country:', options=(('Laos', [12.2, 16.3, 20.5, 25.4, 31.2, 14.2, …"
      ]
     },
     "metadata": {},
     "output_type": "display_data"
    },
    {
     "data": {
      "text/plain": [
       "<function __main__.my_plot(data)>"
      ]
     },
     "execution_count": 41,
     "metadata": {},
     "output_type": "execute_result"
    },
    {
     "data": {
      "image/png": "[encoded data removed]",
      "text/plain": [
       "<Figure size 432x288 with 1 Axes>"
      ]
     },
     "metadata": {
      "needs_background": "light"
     },
     "output_type": "display_data"
    }
   ],
   "source": [
    "import matplotlib.pyplot as plt\n",
    "Dropdown = widgets.Dropdown(\n",
    "    options = [('Laos',y1),('Singapore',y2),('Vietnam',y3)],\n",
    "    value = None,\n",
    "    description = 'Country:',\n",
    "    disable = False)\n",
    "\n",
    "def my_plot(data):\n",
    "    plt.plot(x,data)\n",
    "    plt.show()\n",
    "\n",
    "interact(my_plot, data = Dropdown)"
   ]
  }
 ],
 "metadata": {
  "kernelspec": {
   "display_name": "Python 3 (ipykernel)",
   "language": "python",
   "name": "python3"
  },
  "language_info": {
   "codemirror_mode": {
    "name": "ipython",
    "version": 3
   },
   "file_extension": ".py",
   "mimetype": "text/x-python",
   "name": "python",
   "nbconvert_exporter": "python",
   "pygments_lexer": "ipython3",
   "version": "3.10.4"
  }
 },
 "nbformat": 4,
 "nbformat_minor": 5
}
