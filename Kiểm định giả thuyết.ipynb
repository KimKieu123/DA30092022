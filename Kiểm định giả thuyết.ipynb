{
 "cells": [
  {
   "cell_type": "code",
   "execution_count": 10,
   "id": "49b06ad7",
   "metadata": {},
   "outputs": [
    {
     "data": {
      "image/png": "[encoded data removed]",
      "text/plain": [
       "<Figure size 432x288 with 1 Axes>"
      ]
     },
     "metadata": {
      "needs_background": "light"
     },
     "output_type": "display_data"
    }
   ],
   "source": [
    "import numpy as np\n",
    "import matplotlib.pyplot as plt\n",
    "data = np.random.normal(0,1,10000)\n",
    "plt.hist(data, bins = 100)\n",
    "plt.show()"
   ]
  },
  {
   "cell_type": "markdown",
   "id": "1ca9f064",
   "metadata": {},
   "source": [
    "giả thiết H0: u_ = 0\n",
    "H1: u_ != 0"
   ]
  },
  {
   "cell_type": "code",
   "execution_count": 14,
   "id": "2d1ae4d7",
   "metadata": {},
   "outputs": [
    {
     "name": "stdout",
     "output_type": "stream",
     "text": [
      "-1.3227902112208763\n",
      "0.18593540454529153\n",
      "-202.37903157839702\n",
      "0.0\n"
     ]
    }
   ],
   "source": [
    "import scipy.stats as stats\n",
    "\n",
    "t_stats, pvalue = stats.ttest_1samp(data,0)\n",
    "print(t_stats)\n",
    "print(pvalue)\n",
    "#H0 đúng vì Pvalue có giá trị trung bình tại 0, 18.59% giả thiết sai\n",
    "#thay giả thiết H0 = 2\n",
    "t_stats, pvalue = stats.ttest_1samp(data,2)\n",
    "print(t_stats)\n",
    "print(pvalue)\n",
    "#H0 sai vì pvalue ko có giá trị trung bình tại 2"
   ]
  }
 ],
 "metadata": {
  "kernelspec": {
   "display_name": "Python 3 (ipykernel)",
   "language": "python",
   "name": "python3"
  },
  "language_info": {
   "codemirror_mode": {
    "name": "ipython",
    "version": 3
   },
   "file_extension": ".py",
   "mimetype": "text/x-python",
   "name": "python",
   "nbconvert_exporter": "python",
   "pygments_lexer": "ipython3",
   "version": "3.10.4"
  }
 },
 "nbformat": 4,
 "nbformat_minor": 5
}
