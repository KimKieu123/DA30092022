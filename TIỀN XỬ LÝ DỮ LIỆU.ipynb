{
 "cells": [
  {
   "cell_type": "code",
   "execution_count": 4,
   "id": "cb0349a6",
   "metadata": {},
   "outputs": [
    {
     "data": {
      "text/plain": [
       "0    2.0\n",
       "1    4.0\n",
       "2    NaN\n",
       "3    8.0\n",
       "dtype: float64"
      ]
     },
     "execution_count": 4,
     "metadata": {},
     "output_type": "execute_result"
    }
   ],
   "source": [
    "import pandas as pd\n",
    "import numpy as np\n",
    "a = pd.Series([2, 4, np.NaN, 8])\n",
    "a"
   ]
  },
  {
   "cell_type": "code",
   "execution_count": 6,
   "id": "c761295c",
   "metadata": {},
   "outputs": [
    {
     "data": {
      "text/plain": [
       "0       2\n",
       "1       4\n",
       "2    <NA>\n",
       "3       8\n",
       "dtype: Int64"
      ]
     },
     "execution_count": 6,
     "metadata": {},
     "output_type": "execute_result"
    }
   ],
   "source": [
    "b =pd.Series([2, 4, np.NaN, 8], dtype = pd.Int64Dtype())\n",
    "b"
   ]
  },
  {
   "cell_type": "code",
   "execution_count": 8,
   "id": "b5ae1f78",
   "metadata": {},
   "outputs": [
    {
     "data": {
      "text/plain": [
       "0   1970-01-01 01:00:00.000000002+01:00\n",
       "1   1970-01-01 01:00:00.000000004+01:00\n",
       "2                                   NaT\n",
       "3   1970-01-01 01:00:00.000000008+01:00\n",
       "dtype: datetime64[ns, Europe/London]"
      ]
     },
     "execution_count": 8,
     "metadata": {},
     "output_type": "execute_result"
    }
   ],
   "source": [
    "c = pd.Series([2, 4, np.NaN, 8], dtype = pd.DatetimeTZDtype(tz =\"Europe/London\" ))\n",
    "c"
   ]
  },
  {
   "cell_type": "code",
   "execution_count": 9,
   "id": "7ab97788",
   "metadata": {},
   "outputs": [
    {
     "data": {
      "text/plain": [
       "0    False\n",
       "1    False\n",
       "2     True\n",
       "3    False\n",
       "dtype: bool"
      ]
     },
     "execution_count": 9,
     "metadata": {},
     "output_type": "execute_result"
    }
   ],
   "source": [
    "#kiểm tra dữ liệu có bị khuyết thiếu hay ko\n",
    "a.isnull()"
   ]
  },
  {
   "cell_type": "code",
   "execution_count": 10,
   "id": "11a7c013",
   "metadata": {},
   "outputs": [
    {
     "data": {
      "text/plain": [
       "0     True\n",
       "1     True\n",
       "2    False\n",
       "3     True\n",
       "dtype: bool"
      ]
     },
     "execution_count": 10,
     "metadata": {},
     "output_type": "execute_result"
    }
   ],
   "source": [
    "#kiểm tra ko bị khuyết thiếu\n",
    "a.notnull()"
   ]
  },
  {
   "cell_type": "code",
   "execution_count": null,
   "id": "d3fa5a36",
   "metadata": {},
   "outputs": [],
   "source": [
    "#Xóa dữ liệu khuyết thiếu\n",
    "#khi mà dòng dữ liệu khuyết thiếu ít, và dữ liệu thiếu là cột ko quan trọng\n",
    "#xóa dòng chứa ít nhất 1 giá trị bị khuyết\n",
    "#dropna() ==> có inplace : true/false, mặc định axis = 0\n",
    "#xóa cột \n",
    "#dropna(axis = 1) hoặc dropna(axis = \"columns\")\n",
    "#xóa dòng chứa toàn giá trị khuyết\n",
    "#dropna(how = \"all\")\n",
    "#chỉ giữ lại những dòng có tối đa n giá trị khuyết\n",
    "#dropna(thresh = n)\n",
    "#xóa những dòng có dữ liệu khuyết trên cột\n",
    "#df.dropna(subset = [danh sách cột]) #cột quan trọng \n"
   ]
  },
  {
   "cell_type": "code",
   "execution_count": null,
   "id": "14df13e4",
   "metadata": {},
   "outputs": [],
   "source": [
    "#Thay Thế giá trị khuyết thiếu\n",
    "#thay bằng 1 giá trị vô hướng\n",
    "#fillna(value)\n",
    "#thay thế bằng các giá trị trước\n",
    "#fillna(method = \"ffill\")\n",
    "#thay thế bằng giá trị sau\n",
    "#fillna(method = \"bfill\")\n",
    "#thay thế bằng các giá trị xác định mỗi cột\n",
    "#fillna(value = {\"lương\":0,\"city\":\"Hanoi\",\"C\":2,\"D\":3})"
   ]
  },
  {
   "cell_type": "code",
   "execution_count": null,
   "id": "5f483dde",
   "metadata": {},
   "outputs": [],
   "source": [
    "#Dữ liệu ngoại lai\n",
    "#xác định dữ liệu ngoại lai\n"
   ]
  },
  {
   "cell_type": "code",
   "execution_count": null,
   "id": "546a475f",
   "metadata": {},
   "outputs": [],
   "source": [
    "#CHUẨN HÓA DỮ LIỆU"
   ]
  },
  {
   "cell_type": "code",
   "execution_count": 6,
   "id": "1f0846fc",
   "metadata": {},
   "outputs": [],
   "source": [
    "from sklearn.preprocessing import StandardScaler as ss\n",
    "import pandas as pd\n",
    "import numpy as np"
   ]
  }
 ],
 "metadata": {
  "kernelspec": {
   "display_name": "Python 3 (ipykernel)",
   "language": "python",
   "name": "python3"
  },
  "language_info": {
   "codemirror_mode": {
    "name": "ipython",
    "version": 3
   },
   "file_extension": ".py",
   "mimetype": "text/x-python",
   "name": "python",
   "nbconvert_exporter": "python",
   "pygments_lexer": "ipython3",
   "version": "3.10.4"
  }
 },
 "nbformat": 4,
 "nbformat_minor": 5
}
