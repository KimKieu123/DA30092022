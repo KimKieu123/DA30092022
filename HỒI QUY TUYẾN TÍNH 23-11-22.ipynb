{
 "cells": [
  {
   "cell_type": "code",
   "execution_count": 1,
   "id": "43f25b67",
   "metadata": {},
   "outputs": [
    {
     "name": "stdout",
     "output_type": "stream",
     "text": [
      "5.483699928163382\n",
      "134.88668627920498\n"
     ]
    }
   ],
   "source": [
    "import numpy as np\n",
    "import seaborn as sns\n",
    "import matplotlib.pyplot as plt\n",
    "X = [1.7, 2.1, 3.5, 3.9, 5, 6.5, 2.5, 3.5, 4, 5, 1, 6.6, 4.5,5.5, 3]\n",
    "Y = [139,150,160,162,161,170,152,154,162,160,135,171,157,160,150]\n",
    "\n",
    "X = np.array(X)\n",
    "Y = np.array(Y)\n",
    "W1 = ((np.mean(X)*np.mean(Y)) - (np.mean(X*Y)))/(np.mean(X)**2 - np.mean(X**2))\n",
    "W0 = np.mean(Y) - W1*np.mean(X)\n",
    "print(W1)\n",
    "print(W0)"
   ]
  },
  {
   "cell_type": "code",
   "execution_count": 2,
   "id": "180671df",
   "metadata": {},
   "outputs": [
    {
     "data": {
      "text/plain": [
       "array([144.20897616, 146.40245613, 154.07963603, 156.273116  ,\n",
       "       162.30518592, 170.53073581, 148.5959361 , 154.07963603,\n",
       "       156.82148599, 162.30518592, 140.37038621, 171.07910581,\n",
       "       159.56333596, 165.04703588, 151.33778606])"
      ]
     },
     "execution_count": 2,
     "metadata": {},
     "output_type": "execute_result"
    }
   ],
   "source": [
    "Y_ = W0 + W1*X\n",
    "Y_"
   ]
  },
  {
   "cell_type": "code",
   "execution_count": 3,
   "id": "ffa8e555",
   "metadata": {},
   "outputs": [],
   "source": [
    "import pandas as pd\n",
    "dat1 = pd.DataFrame()\n",
    "dat = pd.DataFrame()\n",
    "dat['X']=X\n",
    "dat['Y_']=Y_\n",
    "dat1['X']=X\n",
    "dat1['Y']=Y\n"
   ]
  },
  {
   "cell_type": "code",
   "execution_count": 4,
   "id": "ea92ee17",
   "metadata": {},
   "outputs": [
    {
     "data": {
      "image/png": "[encoded data removed]",
      "text/plain": [
       "<Figure size 432x288 with 1 Axes>"
      ]
     },
     "metadata": {
      "needs_background": "light"
     },
     "output_type": "display_data"
    }
   ],
   "source": [
    "sns.scatterplot(dat1,x='X', y='Y');\n",
    "sns.lineplot(dat,x='X', y='Y_');"
   ]
  },
  {
   "cell_type": "code",
   "execution_count": 5,
   "id": "eb264674",
   "metadata": {},
   "outputs": [
    {
     "data": {
      "image/png": "[encoded data removed]",
      "text/plain": [
       "<Figure size 360x360 with 1 Axes>"
      ]
     },
     "metadata": {
      "needs_background": "light"
     },
     "output_type": "display_data"
    }
   ],
   "source": [
    "sns.lmplot(data= dat1, x='X', y='Y');"
   ]
  },
  {
   "cell_type": "code",
   "execution_count": 6,
   "id": "6b67d2c9",
   "metadata": {},
   "outputs": [
    {
     "data": {
      "text/html": [
       "<div>\n",
       "<style scoped>\n",
       "    .dataframe tbody tr th:only-of-type {\n",
       "        vertical-align: middle;\n",
       "    }\n",
       "\n",
       "    .dataframe tbody tr th {\n",
       "        vertical-align: top;\n",
       "    }\n",
       "\n",
       "    .dataframe thead th {\n",
       "        text-align: right;\n",
       "    }\n",
       "</style>\n",
       "<table border=\"1\" class=\"dataframe\">\n",
       "  <thead>\n",
       "    <tr style=\"text-align: right;\">\n",
       "      <th></th>\n",
       "      <th>date</th>\n",
       "      <th>price</th>\n",
       "      <th>bedrooms</th>\n",
       "      <th>bathrooms</th>\n",
       "      <th>sqft_living</th>\n",
       "      <th>sqft_lot</th>\n",
       "      <th>floors</th>\n",
       "      <th>waterfront</th>\n",
       "      <th>view</th>\n",
       "      <th>condition</th>\n",
       "      <th>sqft_above</th>\n",
       "      <th>sqft_basement</th>\n",
       "      <th>yr_built</th>\n",
       "      <th>yr_renovated</th>\n",
       "      <th>street</th>\n",
       "      <th>city</th>\n",
       "      <th>statezip</th>\n",
       "      <th>country</th>\n",
       "    </tr>\n",
       "  </thead>\n",
       "  <tbody>\n",
       "    <tr>\n",
       "      <th>0</th>\n",
       "      <td>2014-05-02 00:00:00</td>\n",
       "      <td>3.130000e+05</td>\n",
       "      <td>3.0</td>\n",
       "      <td>1.50</td>\n",
       "      <td>1340</td>\n",
       "      <td>7912</td>\n",
       "      <td>1.5</td>\n",
       "      <td>0</td>\n",
       "      <td>0</td>\n",
       "      <td>3</td>\n",
       "      <td>1340</td>\n",
       "      <td>0</td>\n",
       "      <td>1955</td>\n",
       "      <td>2005</td>\n",
       "      <td>18810 Densmore Ave N</td>\n",
       "      <td>Shoreline</td>\n",
       "      <td>WA 98133</td>\n",
       "      <td>USA</td>\n",
       "    </tr>\n",
       "    <tr>\n",
       "      <th>1</th>\n",
       "      <td>2014-05-02 00:00:00</td>\n",
       "      <td>2.384000e+06</td>\n",
       "      <td>5.0</td>\n",
       "      <td>2.50</td>\n",
       "      <td>3650</td>\n",
       "      <td>9050</td>\n",
       "      <td>2.0</td>\n",
       "      <td>0</td>\n",
       "      <td>4</td>\n",
       "      <td>5</td>\n",
       "      <td>3370</td>\n",
       "      <td>280</td>\n",
       "      <td>1921</td>\n",
       "      <td>0</td>\n",
       "      <td>709 W Blaine St</td>\n",
       "      <td>Seattle</td>\n",
       "      <td>WA 98119</td>\n",
       "      <td>USA</td>\n",
       "    </tr>\n",
       "    <tr>\n",
       "      <th>2</th>\n",
       "      <td>2014-05-02 00:00:00</td>\n",
       "      <td>3.420000e+05</td>\n",
       "      <td>3.0</td>\n",
       "      <td>2.00</td>\n",
       "      <td>1930</td>\n",
       "      <td>11947</td>\n",
       "      <td>1.0</td>\n",
       "      <td>0</td>\n",
       "      <td>0</td>\n",
       "      <td>4</td>\n",
       "      <td>1930</td>\n",
       "      <td>0</td>\n",
       "      <td>1966</td>\n",
       "      <td>0</td>\n",
       "      <td>26206-26214 143rd Ave SE</td>\n",
       "      <td>Kent</td>\n",
       "      <td>WA 98042</td>\n",
       "      <td>USA</td>\n",
       "    </tr>\n",
       "    <tr>\n",
       "      <th>3</th>\n",
       "      <td>2014-05-02 00:00:00</td>\n",
       "      <td>4.200000e+05</td>\n",
       "      <td>3.0</td>\n",
       "      <td>2.25</td>\n",
       "      <td>2000</td>\n",
       "      <td>8030</td>\n",
       "      <td>1.0</td>\n",
       "      <td>0</td>\n",
       "      <td>0</td>\n",
       "      <td>4</td>\n",
       "      <td>1000</td>\n",
       "      <td>1000</td>\n",
       "      <td>1963</td>\n",
       "      <td>0</td>\n",
       "      <td>857 170th Pl NE</td>\n",
       "      <td>Bellevue</td>\n",
       "      <td>WA 98008</td>\n",
       "      <td>USA</td>\n",
       "    </tr>\n",
       "    <tr>\n",
       "      <th>4</th>\n",
       "      <td>2014-05-02 00:00:00</td>\n",
       "      <td>5.500000e+05</td>\n",
       "      <td>4.0</td>\n",
       "      <td>2.50</td>\n",
       "      <td>1940</td>\n",
       "      <td>10500</td>\n",
       "      <td>1.0</td>\n",
       "      <td>0</td>\n",
       "      <td>0</td>\n",
       "      <td>4</td>\n",
       "      <td>1140</td>\n",
       "      <td>800</td>\n",
       "      <td>1976</td>\n",
       "      <td>1992</td>\n",
       "      <td>9105 170th Ave NE</td>\n",
       "      <td>Redmond</td>\n",
       "      <td>WA 98052</td>\n",
       "      <td>USA</td>\n",
       "    </tr>\n",
       "    <tr>\n",
       "      <th>...</th>\n",
       "      <td>...</td>\n",
       "      <td>...</td>\n",
       "      <td>...</td>\n",
       "      <td>...</td>\n",
       "      <td>...</td>\n",
       "      <td>...</td>\n",
       "      <td>...</td>\n",
       "      <td>...</td>\n",
       "      <td>...</td>\n",
       "      <td>...</td>\n",
       "      <td>...</td>\n",
       "      <td>...</td>\n",
       "      <td>...</td>\n",
       "      <td>...</td>\n",
       "      <td>...</td>\n",
       "      <td>...</td>\n",
       "      <td>...</td>\n",
       "      <td>...</td>\n",
       "    </tr>\n",
       "    <tr>\n",
       "      <th>4595</th>\n",
       "      <td>2014-07-09 00:00:00</td>\n",
       "      <td>3.081667e+05</td>\n",
       "      <td>3.0</td>\n",
       "      <td>1.75</td>\n",
       "      <td>1510</td>\n",
       "      <td>6360</td>\n",
       "      <td>1.0</td>\n",
       "      <td>0</td>\n",
       "      <td>0</td>\n",
       "      <td>4</td>\n",
       "      <td>1510</td>\n",
       "      <td>0</td>\n",
       "      <td>1954</td>\n",
       "      <td>1979</td>\n",
       "      <td>501 N 143rd St</td>\n",
       "      <td>Seattle</td>\n",
       "      <td>WA 98133</td>\n",
       "      <td>USA</td>\n",
       "    </tr>\n",
       "    <tr>\n",
       "      <th>4596</th>\n",
       "      <td>2014-07-09 00:00:00</td>\n",
       "      <td>5.343333e+05</td>\n",
       "      <td>3.0</td>\n",
       "      <td>2.50</td>\n",
       "      <td>1460</td>\n",
       "      <td>7573</td>\n",
       "      <td>2.0</td>\n",
       "      <td>0</td>\n",
       "      <td>0</td>\n",
       "      <td>3</td>\n",
       "      <td>1460</td>\n",
       "      <td>0</td>\n",
       "      <td>1983</td>\n",
       "      <td>2009</td>\n",
       "      <td>14855 SE 10th Pl</td>\n",
       "      <td>Bellevue</td>\n",
       "      <td>WA 98007</td>\n",
       "      <td>USA</td>\n",
       "    </tr>\n",
       "    <tr>\n",
       "      <th>4597</th>\n",
       "      <td>2014-07-09 00:00:00</td>\n",
       "      <td>4.169042e+05</td>\n",
       "      <td>3.0</td>\n",
       "      <td>2.50</td>\n",
       "      <td>3010</td>\n",
       "      <td>7014</td>\n",
       "      <td>2.0</td>\n",
       "      <td>0</td>\n",
       "      <td>0</td>\n",
       "      <td>3</td>\n",
       "      <td>3010</td>\n",
       "      <td>0</td>\n",
       "      <td>2009</td>\n",
       "      <td>0</td>\n",
       "      <td>759 Ilwaco Pl NE</td>\n",
       "      <td>Renton</td>\n",
       "      <td>WA 98059</td>\n",
       "      <td>USA</td>\n",
       "    </tr>\n",
       "    <tr>\n",
       "      <th>4598</th>\n",
       "      <td>2014-07-10 00:00:00</td>\n",
       "      <td>2.034000e+05</td>\n",
       "      <td>4.0</td>\n",
       "      <td>2.00</td>\n",
       "      <td>2090</td>\n",
       "      <td>6630</td>\n",
       "      <td>1.0</td>\n",
       "      <td>0</td>\n",
       "      <td>0</td>\n",
       "      <td>3</td>\n",
       "      <td>1070</td>\n",
       "      <td>1020</td>\n",
       "      <td>1974</td>\n",
       "      <td>0</td>\n",
       "      <td>5148 S Creston St</td>\n",
       "      <td>Seattle</td>\n",
       "      <td>WA 98178</td>\n",
       "      <td>USA</td>\n",
       "    </tr>\n",
       "    <tr>\n",
       "      <th>4599</th>\n",
       "      <td>2014-07-10 00:00:00</td>\n",
       "      <td>2.206000e+05</td>\n",
       "      <td>3.0</td>\n",
       "      <td>2.50</td>\n",
       "      <td>1490</td>\n",
       "      <td>8102</td>\n",
       "      <td>2.0</td>\n",
       "      <td>0</td>\n",
       "      <td>0</td>\n",
       "      <td>4</td>\n",
       "      <td>1490</td>\n",
       "      <td>0</td>\n",
       "      <td>1990</td>\n",
       "      <td>0</td>\n",
       "      <td>18717 SE 258th St</td>\n",
       "      <td>Covington</td>\n",
       "      <td>WA 98042</td>\n",
       "      <td>USA</td>\n",
       "    </tr>\n",
       "  </tbody>\n",
       "</table>\n",
       "<p>4600 rows × 18 columns</p>\n",
       "</div>"
      ],
      "text/plain": [
       "                     date         price  bedrooms  bathrooms  sqft_living  \\\n",
       "0     2014-05-02 00:00:00  3.130000e+05       3.0       1.50         1340   \n",
       "1     2014-05-02 00:00:00  2.384000e+06       5.0       2.50         3650   \n",
       "2     2014-05-02 00:00:00  3.420000e+05       3.0       2.00         1930   \n",
       "3     2014-05-02 00:00:00  4.200000e+05       3.0       2.25         2000   \n",
       "4     2014-05-02 00:00:00  5.500000e+05       4.0       2.50         1940   \n",
       "...                   ...           ...       ...        ...          ...   \n",
       "4595  2014-07-09 00:00:00  3.081667e+05       3.0       1.75         1510   \n",
       "4596  2014-07-09 00:00:00  5.343333e+05       3.0       2.50         1460   \n",
       "4597  2014-07-09 00:00:00  4.169042e+05       3.0       2.50         3010   \n",
       "4598  2014-07-10 00:00:00  2.034000e+05       4.0       2.00         2090   \n",
       "4599  2014-07-10 00:00:00  2.206000e+05       3.0       2.50         1490   \n",
       "\n",
       "      sqft_lot  floors  waterfront  view  condition  sqft_above  \\\n",
       "0         7912     1.5           0     0          3        1340   \n",
       "1         9050     2.0           0     4          5        3370   \n",
       "2        11947     1.0           0     0          4        1930   \n",
       "3         8030     1.0           0     0          4        1000   \n",
       "4        10500     1.0           0     0          4        1140   \n",
       "...        ...     ...         ...   ...        ...         ...   \n",
       "4595      6360     1.0           0     0          4        1510   \n",
       "4596      7573     2.0           0     0          3        1460   \n",
       "4597      7014     2.0           0     0          3        3010   \n",
       "4598      6630     1.0           0     0          3        1070   \n",
       "4599      8102     2.0           0     0          4        1490   \n",
       "\n",
       "      sqft_basement  yr_built  yr_renovated                    street  \\\n",
       "0                 0      1955          2005      18810 Densmore Ave N   \n",
       "1               280      1921             0           709 W Blaine St   \n",
       "2                 0      1966             0  26206-26214 143rd Ave SE   \n",
       "3              1000      1963             0           857 170th Pl NE   \n",
       "4               800      1976          1992         9105 170th Ave NE   \n",
       "...             ...       ...           ...                       ...   \n",
       "4595              0      1954          1979            501 N 143rd St   \n",
       "4596              0      1983          2009          14855 SE 10th Pl   \n",
       "4597              0      2009             0          759 Ilwaco Pl NE   \n",
       "4598           1020      1974             0         5148 S Creston St   \n",
       "4599              0      1990             0         18717 SE 258th St   \n",
       "\n",
       "           city  statezip country  \n",
       "0     Shoreline  WA 98133     USA  \n",
       "1       Seattle  WA 98119     USA  \n",
       "2          Kent  WA 98042     USA  \n",
       "3      Bellevue  WA 98008     USA  \n",
       "4       Redmond  WA 98052     USA  \n",
       "...         ...       ...     ...  \n",
       "4595    Seattle  WA 98133     USA  \n",
       "4596   Bellevue  WA 98007     USA  \n",
       "4597     Renton  WA 98059     USA  \n",
       "4598    Seattle  WA 98178     USA  \n",
       "4599  Covington  WA 98042     USA  \n",
       "\n",
       "[4600 rows x 18 columns]"
      ]
     },
     "execution_count": 6,
     "metadata": {},
     "output_type": "execute_result"
    }
   ],
   "source": [
    "import pandas as pd\n",
    "dat2 = pd.read_csv('data.csv')\n",
    "dat2"
   ]
  },
  {
   "cell_type": "code",
   "execution_count": 7,
   "id": "a4fc76b9",
   "metadata": {},
   "outputs": [
    {
     "name": "stdout",
     "output_type": "stream",
     "text": [
      "<class 'pandas.core.frame.DataFrame'>\n",
      "RangeIndex: 4600 entries, 0 to 4599\n",
      "Data columns (total 18 columns):\n",
      " #   Column         Non-Null Count  Dtype  \n",
      "---  ------         --------------  -----  \n",
      " 0   date           4600 non-null   object \n",
      " 1   price          4600 non-null   float64\n",
      " 2   bedrooms       4600 non-null   float64\n",
      " 3   bathrooms      4600 non-null   float64\n",
      " 4   sqft_living    4600 non-null   int64  \n",
      " 5   sqft_lot       4600 non-null   int64  \n",
      " 6   floors         4600 non-null   float64\n",
      " 7   waterfront     4600 non-null   int64  \n",
      " 8   view           4600 non-null   int64  \n",
      " 9   condition      4600 non-null   int64  \n",
      " 10  sqft_above     4600 non-null   int64  \n",
      " 11  sqft_basement  4600 non-null   int64  \n",
      " 12  yr_built       4600 non-null   int64  \n",
      " 13  yr_renovated   4600 non-null   int64  \n",
      " 14  street         4600 non-null   object \n",
      " 15  city           4600 non-null   object \n",
      " 16  statezip       4600 non-null   object \n",
      " 17  country        4600 non-null   object \n",
      "dtypes: float64(4), int64(9), object(5)\n",
      "memory usage: 647.0+ KB\n"
     ]
    }
   ],
   "source": [
    "dat2.info()"
   ]
  },
  {
   "cell_type": "code",
   "execution_count": null,
   "id": "46290154",
   "metadata": {},
   "outputs": [
    {
     "data": {
      "text/plain": [
       "<seaborn.axisgrid.PairGrid at 0x1f6f59ca8f0>"
      ]
     },
     "execution_count": 8,
     "metadata": {},
     "output_type": "execute_result"
    }
   ],
   "source": [
    "sns.pairplot(dat2,diag_kind='kde')\n",
    "#vẽ bằng annaconda"
   ]
  },
  {
   "cell_type": "code",
   "execution_count": null,
   "id": "eabb3d49",
   "metadata": {},
   "outputs": [],
   "source": [
    "#Tính giá nhà price dựa trên sqft_living. Vẽ đồ thị\n",
    "sns.scatterplot(data=dat2, y='price', x='sqft_living');"
   ]
  },
  {
   "cell_type": "code",
   "execution_count": null,
   "id": "e626cb02",
   "metadata": {},
   "outputs": [],
   "source": [
    "#a) Tính w0, w1 mà không loại bỏ ngoại lai\n",
    "X = dat2.sqft_living\n",
    "Y = dat2.price"
   ]
  },
  {
   "cell_type": "code",
   "execution_count": null,
   "id": "0d1d347b",
   "metadata": {},
   "outputs": [],
   "source": [
    "W1 = ((np.mean(X)*np.mean(Y)) - (np.mean(X*Y)))/(np.mean(X)**2 - np.mean(X**2))\n",
    "W1"
   ]
  },
  {
   "cell_type": "code",
   "execution_count": null,
   "id": "77ef62e9",
   "metadata": {},
   "outputs": [],
   "source": [
    "W0 = np.mean(Y) - W1*np.mean(X)\n",
    "W0"
   ]
  },
  {
   "cell_type": "code",
   "execution_count": null,
   "id": "649949ed",
   "metadata": {},
   "outputs": [],
   "source": [
    "sns.lmplot(data=dat2, x='sqft_living', y='price');"
   ]
  },
  {
   "cell_type": "code",
   "execution_count": null,
   "id": "ce3da4de",
   "metadata": {},
   "outputs": [],
   "source": [
    "import scipy.stats as stats\n",
    "stats.pearsonr(X, Y)\n",
    "# x và y có mối quan hệ tuyến tính ko chặt"
   ]
  },
  {
   "cell_type": "code",
   "execution_count": null,
   "id": "37a1e060",
   "metadata": {},
   "outputs": [],
   "source": [
    "#b) Tính toán w0, w1 sau khi đã loại bỏ ngoại lai\n",
    "# Loại bỏ giá trị ngoại lai\n",
    "from sklearn.preprocessing import RobustScaler as RS\n",
    "\n",
    "#Lọc ngoại lai của price\n",
    "Q1 = dat2['price'].quantile(0.25)\n",
    "Q3 = dat2['price'].quantile(0.75)\n",
    "IQR = Q3-Q1\n",
    "dat_price = dat2[~((dat2['price'] < (Q1 - 1.5 * IQR)) | (dat2['price'] > (Q3 + 1.5 * IQR)))]\n",
    "\n",
    "#Lọc ngoại lai của sqft_living\n",
    "Q1 = dat_price['sqft_living'].quantile(0.25)\n",
    "Q3 = dat_price['sqft_living'].quantile(0.75)\n",
    "IQR = Q3-Q1\n",
    "dat_price = dat_price[~((dat_price['sqft_living'] < (Q1 - 1.5 * IQR)) | (dat_price['sqft_living'] > (Q3 + 1.5 * IQR)))]"
   ]
  },
  {
   "cell_type": "code",
   "execution_count": null,
   "id": "cac8973d",
   "metadata": {},
   "outputs": [],
   "source": [
    "import seaborn as sns\n",
    "import numpy as np\n",
    "\n",
    "X = dat_price.loc[:,'sqft_living']\n",
    "Y = dat_price.loc[:,'price']\n",
    "\n",
    "X = np.asarray(X)\n",
    "Y = np.asarray(Y)\n",
    "\n",
    "w1 = (X.mean()*Y.mean()- (X*Y).mean())/(X.mean()*X.mean()-(X*X).mean())\n",
    "w0 = Y.mean()-w1*X.mean()\n",
    "Y_ = w0 + w1*X\n",
    "plt.scatter(X,Y)\n",
    "plt.plot(X, Y_)"
   ]
  },
  {
   "cell_type": "code",
   "execution_count": null,
   "id": "2c49a9aa",
   "metadata": {},
   "outputs": [],
   "source": [
    "sns.lmplot(data=dat_price, x='sqft_living', y='price');"
   ]
  },
  {
   "cell_type": "code",
   "execution_count": null,
   "id": "d946728a",
   "metadata": {},
   "outputs": [],
   "source": [
    "stats.pearsonr(X, Y)"
   ]
  },
  {
   "cell_type": "code",
   "execution_count": null,
   "id": "5a492381",
   "metadata": {},
   "outputs": [],
   "source": [
    "import sklearn.linear_model as lm\n",
    "reg = lm.LinearRegression(n_jobs=5000)\n",
    "reg.fit(X.reshape(-1, 1), Y)\n",
    "w1__ = reg.coef_\n",
    "w0__ = reg.intercept_\n",
    "print(w0__, ' ', w1__)\n",
    "#Dự đoán\n",
    "#Nếu dùng công thức\n",
    "x = 17\n",
    "y = w0_ct + w1_ct*x\n",
    "print(y)\n",
    "\n",
    "#Nếu dùng sklearn\n",
    "y2 = reg.predict(np.array(x).reshape(1, -1))\n",
    "print(y2)"
   ]
  },
  {
   "cell_type": "code",
   "execution_count": null,
   "id": "dcc602f2",
   "metadata": {},
   "outputs": [],
   "source": []
  },
  {
   "cell_type": "code",
   "execution_count": null,
   "id": "2fcec078",
   "metadata": {},
   "outputs": [],
   "source": [
    "dat4 = pd.read_csv('advertising.csv')\n",
    "dat4.info()"
   ]
  },
  {
   "cell_type": "code",
   "execution_count": null,
   "id": "8cb46eda",
   "metadata": {},
   "outputs": [],
   "source": [
    "sns.pairplot(data=dat4, diag_kind='kde');"
   ]
  },
  {
   "cell_type": "code",
   "execution_count": null,
   "id": "4d728549",
   "metadata": {},
   "outputs": [],
   "source": [
    "print(stats.pearsonr(dat4.Sales,dat4.TV)) #tương quan chặt\n",
    "print(stats.pearsonr(dat4.Sales,dat4.Radio)) # tương quan lỏng\n",
    "print(stats.pearsonr(dat4.Sales,dat4.Newspaper)) #hầu như ko có tương quan"
   ]
  },
  {
   "cell_type": "code",
   "execution_count": null,
   "id": "0e86b6e1",
   "metadata": {},
   "outputs": [],
   "source": [
    "#Có thể dự đoán doanh thu (sale) dựa trên chi phí quảng cáo trên TV"
   ]
  },
  {
   "cell_type": "code",
   "execution_count": null,
   "id": "9b7f0aa2",
   "metadata": {},
   "outputs": [],
   "source": [
    "##Hồi quy"
   ]
  },
  {
   "cell_type": "code",
   "execution_count": null,
   "id": "06903adc",
   "metadata": {},
   "outputs": [],
   "source": [
    "learn = dat4.loc[:150, :] #Dữ liệu để máy học (huấn luyện)\n",
    "test = dat4.loc[151:, :] #Dữ liệu để kiểm tra"
   ]
  },
  {
   "cell_type": "code",
   "execution_count": null,
   "id": "4fd82c36",
   "metadata": {},
   "outputs": [],
   "source": [
    "import sklearn.model_selection as model_selection\n",
    "learn2, test2 = model_selection.train_test_split(dat4, test_size=0.25)"
   ]
  },
  {
   "cell_type": "code",
   "execution_count": null,
   "id": "98d1d757",
   "metadata": {},
   "outputs": [],
   "source": [
    "learn2 #xáo trộn dữ liệu trước khi chia"
   ]
  },
  {
   "cell_type": "code",
   "execution_count": null,
   "id": "73e29317",
   "metadata": {},
   "outputs": [],
   "source": [
    "test2 #dữ liệu test được dùng để kiểm tra lại sau khi thiết lập được mô hình hồi quy"
   ]
  },
  {
   "cell_type": "code",
   "execution_count": null,
   "id": "764080ed",
   "metadata": {},
   "outputs": [],
   "source": [
    "import sklearn.linear_model as lm\n",
    "reg2 = lm.LinearRegression()\n",
    "X = np.asarray(learn.loc[:,'TV'])\n",
    "Y = np.asarray(learn.loc[:,'Sales'])\n",
    "reg2.fit(X.reshape(-1, 1), Y)"
   ]
  },
  {
   "cell_type": "code",
   "execution_count": null,
   "id": "0fe2de76",
   "metadata": {},
   "outputs": [],
   "source": [
    "#Tính thủ công\n",
    "# Y_ = reg2.intercept_ + reg2.coef_*X\n",
    "#Tính theo thư viện\n",
    "Y_ = reg2.predict(X.reshape(-1,1))\n",
    "#Y_"
   ]
  },
  {
   "cell_type": "code",
   "execution_count": null,
   "id": "c7b0c24f",
   "metadata": {},
   "outputs": [],
   "source": [
    "sns.scatterplot(x=X, y=Y);\n",
    "sns.lineplot(x=X, y=Y_, color='r');\n",
    "# plt.show()"
   ]
  },
  {
   "cell_type": "code",
   "execution_count": null,
   "id": "ee902812",
   "metadata": {},
   "outputs": [],
   "source": [
    "sns.lmplot(data = learn2, x = \"TV\", y = \"Sales\")"
   ]
  },
  {
   "cell_type": "code",
   "execution_count": null,
   "id": "59fdd6a1",
   "metadata": {},
   "outputs": [],
   "source": [
    "## Tính toán điểm r2score so sánh giữa dữ liệu dự đoán và dữ liệu thực\n"
   ]
  },
  {
   "cell_type": "code",
   "execution_count": null,
   "id": "af2f406c",
   "metadata": {},
   "outputs": [],
   "source": [
    "import sklearn.metrics as metrics\n",
    "y_pred = reg2.predict(np.array(test.TV).reshape(-1,1))\n",
    "metrics.r2_score(test.Sales,y_pred)\n",
    "#kết quả dao động từ 0 - 1, chính xác thường trên 90%\n",
    "#Kết luận: Tương đối chuẩn"
   ]
  },
  {
   "cell_type": "code",
   "execution_count": null,
   "id": "455e47af",
   "metadata": {},
   "outputs": [],
   "source": [
    "import numpy as np\n",
    "import matplotlib.pyplot as plt\n",
    "from sklearn.preprocessing import PolynomialFeatures as pf #đa thức hóa\n",
    "from sklearn.linear_model import LinearRegression as lr\n",
    "import seaborn as sns\n",
    "print('Khai báo thành công')"
   ]
  },
  {
   "cell_type": "code",
   "execution_count": null,
   "id": "904552c6",
   "metadata": {},
   "outputs": [],
   "source": [
    "#Nhập dữ liệu\n",
    "x = np.arange(0, 30)\n",
    "y = [3, 4, 5, 7, 10, 8, 9, 10, 10, 23, 27, 44, 50, 63, 67, 60, 62, 70, 75, 88, 81, 87, 95, 100, 108, 135, 151, 160, 169, 179]"
   ]
  },
  {
   "cell_type": "code",
   "execution_count": null,
   "id": "ce272d53",
   "metadata": {},
   "outputs": [],
   "source": [
    "y = np.array(y) #Chuyển từ python List thành numpy array --> tăng tốc tính toán\n",
    "y"
   ]
  },
  {
   "cell_type": "code",
   "execution_count": null,
   "id": "7938bf09",
   "metadata": {},
   "outputs": [],
   "source": [
    "sns.scatterplot(x = x, y = y)"
   ]
  },
  {
   "cell_type": "code",
   "execution_count": null,
   "id": "c023a569",
   "metadata": {},
   "outputs": [],
   "source": [
    "poly = pf(degree = 2) #khai báo đa thức bậc 2\n",
    "poly_X = poly.fit_transform(x.reshape(-1, 1))\n",
    "poly_X"
   ]
  },
  {
   "cell_type": "code",
   "execution_count": null,
   "id": "651077c7",
   "metadata": {},
   "outputs": [],
   "source": [
    "#Tạo model regression\n",
    "pr_model = lr() #Tạo đối tượng thuộc class LinearRegression\n",
    "pr_model.fit(poly_X, y) #Fit (tính toán)"
   ]
  },
  {
   "cell_type": "code",
   "execution_count": null,
   "id": "31bce59f",
   "metadata": {},
   "outputs": [],
   "source": [
    "#Dự đoán (prediction)\n",
    "Y_pred = pr_model.predict(poly_X) \n",
    "Y_pred"
   ]
  },
  {
   "cell_type": "code",
   "execution_count": null,
   "id": "05a7e569",
   "metadata": {},
   "outputs": [],
   "source": [
    "sns.scatterplot(x = x, y = y)\n",
    "sns.lineplot(x = x, y = Y_pred, color = \"r\")"
   ]
  },
  {
   "cell_type": "code",
   "execution_count": null,
   "id": "b5e7d12e",
   "metadata": {},
   "outputs": [],
   "source": [
    "#Tính r2score\n",
    "import sklearn.metrics as metrics\n",
    "metrics.r2_score(y,Y_pred)"
   ]
  },
  {
   "cell_type": "code",
   "execution_count": null,
   "id": "e982dc93",
   "metadata": {},
   "outputs": [],
   "source": [
    "#Giả sử bậc 3\n",
    "#Chuyển đổi sang bậc cao (đa thức hóa biến x)\n",
    "poly = pf(degree=3) # khai báo đa thức bậc 2\n",
    "poly_X = poly.fit_transform(x.reshape(-1, 1)) #đa thức hóa\n",
    "\n",
    "#Tạo model regression\n",
    "pr_model = lr() #Tạo đối tượng thuộc class LinearRegression\n",
    "pr_model.fit(poly_X, y)\n",
    "\n",
    "#Tạo giá trị y dự đoán\n",
    "Y_pred = pr_model.predict(poly_X) \n",
    "\n",
    "#Vẽ hình\n",
    "plt.scatter(x, y)\n",
    "plt.plot(x, Y_pred, 'r')\n",
    "plt.show()\n",
    "\n",
    "print(metrics.r2_score(y,Y_pred))"
   ]
  },
  {
   "cell_type": "markdown",
   "id": "fbb579c5",
   "metadata": {},
   "source": [
    "Bậc 1: r2score = 93.1%\n",
    "Bậc 2: r2score = 97.4%\n",
    "Bậc 3: r2score = 97.6%\n",
    "Nên sử dụng bậc 2 là đủ --> tránh tình trạng overfitting và tốn công tính toán"
   ]
  },
  {
   "cell_type": "code",
   "execution_count": null,
   "id": "8910442a",
   "metadata": {},
   "outputs": [],
   "source": [
    "#Dự đoán với x bất kỳ\n",
    "x1 = 30\n",
    "X1 = np.array(x1) #Chuyển thành dạng numpy\n",
    "polyX1 = poly.fit_transform(X1.reshape(-1, 1)) #Đa thức hóa\n",
    "y1 = pr_model.predict(polyX1) #Quá trình dự đoán\n",
    "print(y1)"
   ]
  },
  {
   "cell_type": "code",
   "execution_count": null,
   "id": "84fbe7e7",
   "metadata": {},
   "outputs": [],
   "source": [
    "#sử dụng pipeline\n",
    "#Pipeline là 1 quy trình, tương tự như user function\n",
    "from sklearn.pipeline import Pipeline\n",
    "\n",
    "#Chuyển đổi sang bậc cao\n",
    "poly = pf(degree=2)\n",
    "\n",
    "#Tạo model regression\n",
    "pr_model = lr()\n",
    "\n",
    "#Tạo pipeline\n",
    "pipeline = Pipeline(\n",
    "        [\n",
    "            (\"polynomial_features\", poly),\n",
    "            (\"linear_regression\", pr_model)\n",
    "        ]\n",
    "    )\n",
    "\n",
    "#Tính pipeline\n",
    "pipeline.fit(x.reshape(-1,1), y)\n",
    "\n",
    "#Tạo giá trị y dự đoán\n",
    "Y_pred = pipeline.predict(x.reshape(-1, 1))\n",
    "\n",
    "#Vẽ hình\n",
    "sns.scatterplot(x=x, y=y)\n",
    "sns.lineplot(x=x, y=Y_pred, color='r')\n",
    "plt.show()\n"
   ]
  },
  {
   "cell_type": "code",
   "execution_count": null,
   "id": "9abf0b9a",
   "metadata": {},
   "outputs": [],
   "source": [
    "x2 = 30\n",
    "y2 = pipeline.predict(np.array(x2).reshape(-1, 1))\n",
    "y2"
   ]
  },
  {
   "cell_type": "code",
   "execution_count": null,
   "id": "78e6b632",
   "metadata": {},
   "outputs": [],
   "source": [
    "area = [2100,1416,1534,852,1600,1985,1535,1050,2300,1200]\n",
    "bedroom = [5,3,3,2,3,5,4,2,4,3]\n",
    "floor = [1,2,2,1,2,1,2,1,2,2]\n",
    "price = [460,232,315,178,329,420,330,195,450,250]"
   ]
  },
  {
   "cell_type": "code",
   "execution_count": null,
   "id": "9a494972",
   "metadata": {},
   "outputs": [],
   "source": [
    "Y = np.asarray(price) #Xử lý Y --> numpy array\n",
    "#Xử lý X\n",
    "X = np.append(np.array(area).reshape(-1, 1), np.array(bedroom).reshape(-1, 1), axis=1)\n",
    "X = np.append(X, np.array(floor).reshape(-1, 1), axis=1)\n",
    "X"
   ]
  },
  {
   "cell_type": "code",
   "execution_count": null,
   "id": "a978ee6a",
   "metadata": {},
   "outputs": [],
   "source": [
    "demo6_model = lr(normalize=True) #Tạo object hồi quy tuyến tính, có chuẩn hóa\n",
    "#thay vì scale theo cách thông thường\n",
    "demo6_model.fit(X, Y) #Tính toán model\n",
    "\n",
    "# Dự đoán \n",
    "Y_ = demo6_model.predict(X)\n",
    "# Y_\n",
    "\n",
    "#Vẽ đồ thị\n",
    "sns.scatterplot(x=area, y=price)\n",
    "# temp = np.arange(10)*0\n",
    "# x_ = np.append(np.array(area).reshape(-1, 1), temp.reshape(-1, 1), axis=1)\n",
    "# x_ = np.append(x_, temp.reshape(-1, 1), axis=1)\n",
    "sns.lineplot(x=X[:,0],y= Y_, color='r')\n",
    "plt.show()"
   ]
  },
  {
   "cell_type": "code",
   "execution_count": null,
   "id": "1a6d56c3",
   "metadata": {},
   "outputs": [],
   "source": [
    "#Sử dụng pipeline (kiểu mới)\n",
    "from sklearn.preprocessing import StandardScaler\n",
    "zscore = StandardScaler(with_mean=False)\n",
    "demo6_model = lr()\n",
    "#Tạo pipeline\n",
    "pipeline = Pipeline(\n",
    "        [\n",
    "            (\"StandardScaler\", zscore),\n",
    "            (\"linear_regression\", demo6_model)\n",
    "        ]\n",
    "    )\n",
    "pipeline.fit(X,Y)\n",
    "Y_ = pipeline.predict(X)\n",
    "\n",
    "#Vẽ\n",
    "sns.scatterplot(x=X[:,0], y=Y);\n",
    "sns.lineplot(x=X[:,0], y=Y_, color='r');"
   ]
  },
  {
   "cell_type": "code",
   "execution_count": null,
   "id": "c7b88000",
   "metadata": {},
   "outputs": [],
   "source": [
    "#Kiểm tra model có chính xác hay ko\n",
    "from sklearn.metrics import r2_score\n",
    "\n",
    "r2 = r2_score(Y, Y_)\n",
    "r2"
   ]
  },
  {
   "cell_type": "code",
   "execution_count": null,
   "id": "7e890646",
   "metadata": {},
   "outputs": [],
   "source": [
    "import pandas as pd\n",
    "dat7 = pd.read_csv('insurance.csv')\n",
    "dat7"
   ]
  },
  {
   "cell_type": "markdown",
   "id": "6492e363",
   "metadata": {},
   "source": [
    "1. Vẽ biểu đồ để trực quan hóa mối quan hệ giữa tuổi của người được bảo hiểm (age)  với chi phí y tế (charges); và mối quan hệ giữa chỉ số trọng lượng cơ thể (bmi) với chi phí y tế (charges)."
   ]
  },
  {
   "cell_type": "code",
   "execution_count": null,
   "id": "098eabd7",
   "metadata": {},
   "outputs": [],
   "source": [
    "import seaborn as sns\n",
    "\n",
    "sns.lmplot(data=dat7, x='age', y='charges');"
   ]
  },
  {
   "cell_type": "code",
   "execution_count": null,
   "id": "3b75336c",
   "metadata": {},
   "outputs": [],
   "source": [
    "sns.lmplot(data=dat7, x='bmi', y='charges');"
   ]
  },
  {
   "cell_type": "markdown",
   "id": "77be3de5",
   "metadata": {},
   "source": [
    "Chuyển các biến có kiểu categorical: sex, smoker, region thành các biến “Dummy”: sex_female , sex_male, smoker_no, smoker_yes, region_northeast  region_northwest region_southeast, region_southwest. Sau đó loại bớt 2 trường không cần thiết:  sex_male, smoker_no.\n",
    "Hint: Dùng hàm pd.get_dummies() để chuyển các biến sex, smoker, region thành các biến “dummy” tương ứng. Xóa cột (trường) bằng hàm drop()."
   ]
  },
  {
   "cell_type": "code",
   "execution_count": null,
   "id": "e6a15391",
   "metadata": {},
   "outputs": [],
   "source": [
    "dat71 = pd.get_dummies(dat7)\n",
    "dat71"
   ]
  },
  {
   "cell_type": "code",
   "execution_count": null,
   "id": "151c7b6e",
   "metadata": {},
   "outputs": [],
   "source": [
    "dat71 = dat71.drop(columns = ['sex_male', 'smoker_no'])\n",
    "dat71"
   ]
  },
  {
   "cell_type": "markdown",
   "id": "7c433fe7",
   "metadata": {},
   "source": [
    "Chia ngẫu nhiên dữ liệu quan sát được thành hai phần dữ liệu huấn luyện và dữ liệu kiểm tra.\n",
    "Hint: Sử dụng train_test_split() để chia dữ liệu thành dữ liệu huấn luyện và dữ liệu kiểm tra."
   ]
  },
  {
   "cell_type": "code",
   "execution_count": null,
   "id": "f1200b9c",
   "metadata": {},
   "outputs": [],
   "source": [
    "import sklearn.model_selection as model_selection\n",
    "\n",
    "train, test = model_selection.train_test_split(dat71, train_size=0.6)\n",
    "train #Đây là train data"
   ]
  },
  {
   "cell_type": "code",
   "execution_count": null,
   "id": "ae0570ff",
   "metadata": {},
   "outputs": [],
   "source": [
    "test #Đây là test data"
   ]
  },
  {
   "cell_type": "markdown",
   "id": "0cdcf9d6",
   "metadata": {},
   "source": [
    "Xây dựng mô hình hồi quy tuyến tính đa biến với biến dự báo là chi phí y tế, các biến đầu vào là các trường còn lại. Đánh giá mô hình."
   ]
  },
  {
   "cell_type": "code",
   "execution_count": null,
   "id": "74665f57",
   "metadata": {},
   "outputs": [],
   "source": [
    "X = train.drop(columns=['charges'])\n",
    "Y = train.loc[:,'charges']"
   ]
  },
  {
   "cell_type": "code",
   "execution_count": null,
   "id": "e5a00a28",
   "metadata": {},
   "outputs": [],
   "source": [
    "#Sử dụng pipeline (kiểu mới)\n",
    "#Tạo chuẩn hóa\n",
    "from sklearn.preprocessing import StandardScaler\n",
    "zscore = StandardScaler(with_mean=False)\n",
    "\n",
    "#Tạo model Linear Regression\n",
    "from sklearn.linear_model import LinearRegression\n",
    "model = LinearRegression()\n",
    "\n",
    "#Tạo pipeline\n",
    "from sklearn.pipeline import Pipeline\n",
    "pipeline = Pipeline([(\"StandardScaler\", zscore),\n",
    "                     (\"linear_regression\", model)])\n",
    "\n",
    "#Fit\n",
    "pipeline.fit(X,Y)\n",
    "\n",
    "#Predict\n",
    "Y_ = pipeline.predict(test.drop(columns=['charges']))\n",
    "\n",
    "#Tính r2score\n",
    "import sklearn.metrics as metrics\n",
    "metrics.r2_score(test.loc[:,'charges'], Y_)"
   ]
  },
  {
   "cell_type": "code",
   "execution_count": 3,
   "id": "987ebcbc",
   "metadata": {},
   "outputs": [
    {
     "ename": "NameError",
     "evalue": "name 'confusion_matrix' is not defined",
     "output_type": "error",
     "traceback": [
      "\u001b[1;31m---------------------------------------------------------------------------\u001b[0m",
      "\u001b[1;31mNameError\u001b[0m                                 Traceback (most recent call last)",
      "Input \u001b[1;32mIn [3]\u001b[0m, in \u001b[0;36m<cell line: 2>\u001b[1;34m()\u001b[0m\n\u001b[0;32m      1\u001b[0m \u001b[38;5;66;03m#Evaluate model\u001b[39;00m\n\u001b[1;32m----> 2\u001b[0m conf_m \u001b[38;5;241m=\u001b[39m \u001b[43mconfusion_matrix\u001b[49m(Y_test, Y_pred)\n\u001b[0;32m      3\u001b[0m report \u001b[38;5;241m=\u001b[39m classification_report(Y_test, Y_pred)\n\u001b[0;32m      5\u001b[0m \u001b[38;5;28mprint\u001b[39m(\u001b[38;5;124m'\u001b[39m\u001b[38;5;124mconf_m:\u001b[39m\u001b[38;5;124m'\u001b[39m, conf_m, sep\u001b[38;5;241m=\u001b[39m\u001b[38;5;124m'\u001b[39m\u001b[38;5;130;01m\\n\u001b[39;00m\u001b[38;5;124m'\u001b[39m, end\u001b[38;5;241m=\u001b[39m\u001b[38;5;124m'\u001b[39m\u001b[38;5;130;01m\\n\u001b[39;00m\u001b[38;5;130;01m\\n\u001b[39;00m\u001b[38;5;124m'\u001b[39m)\n",
      "\u001b[1;31mNameError\u001b[0m: name 'confusion_matrix' is not defined"
     ]
    }
   ],
   "source": []
  }
 ],
 "metadata": {
  "kernelspec": {
   "display_name": "Python 3 (ipykernel)",
   "language": "python",
   "name": "python3"
  },
  "language_info": {
   "codemirror_mode": {
    "name": "ipython",
    "version": 3
   },
   "file_extension": ".py",
   "mimetype": "text/x-python",
   "name": "python",
   "nbconvert_exporter": "python",
   "pygments_lexer": "ipython3",
   "version": "3.10.4"
  }
 },
 "nbformat": 4,
 "nbformat_minor": 5
}
