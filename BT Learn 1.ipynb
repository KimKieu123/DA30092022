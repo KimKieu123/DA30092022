{
 "cells": [
  {
   "cell_type": "code",
   "execution_count": 9,
   "id": "c4462237",
   "metadata": {},
   "outputs": [
    {
     "name": "stdout",
     "output_type": "stream",
     "text": [
      "['Rice - Retail', 'Wheat flour - Retail', 'Beans (white) - Retail', 'Potatoes - Retail', 'Eggs - Retail', 'Meat (chicken) - Retail', 'Sugar - Retail', 'Garlic - Retail', 'Lentils - Retail', 'Pasta - Retail', 'Tomatoes - Retail', 'Groundnuts (shelled) - Retail', 'Bread (common) - Retail', 'Coffee - Retail', 'Onions - Retail', 'Tea (green) - Retail', 'Cabbage - Retail', 'Meat (mutton) - Retail', 'Oil (sunflower) - Retail', 'Salt - Retail', 'Coffee (instant) - Retail', 'Peas (green, dry) - Retail', 'Apples (red) - Retail', 'Cauliflower - Retail', 'Cucumbers (greenhouse) - Retail', 'Oil (olive) - Retail', 'Chickpeas - Retail', 'Bananas - Retail', 'Bulgur - Retail', 'Tea - Retail', 'Fuel (petrol-gasoline) - Retail', 'Transport (public) - Retail', 'Tomatoes (paste) - Retail', 'Fuel (gas) - Retail', 'Apples - Retail', 'Oranges - Retail', 'Yogurt - Retail', 'Bread (pita) - Retail', 'Cucumbers - Retail', 'Fish (fresh) - Retail', 'Spinach - Retail', 'Cheese - Retail', 'Meat (veal) - Retail', 'Eggplants - Retail', 'Milk (powder, infant formula) - Retail', 'Zucchini - Retail', 'Milk (pasteurized) - Retail', 'Wage (non-qualified labour, non-agricultural) - Retail', 'Electricity - Retail', 'Tea (herbal) - Retail', 'Water - Retail', 'Cocoa (powder) - Retail']\n",
      "Số lượng bản ghi của gạo năm 2019: 48\n",
      "Ttest_1sampResult(statistic=-1.1854023812590566, pvalue=0.24181730968913567)\n",
      "Số lượng bản ghi của bột mỳ năm 2019: 48\n"
     ]
    },
    {
     "data": {
      "image/png": "[encoded data removed]",
      "text/plain": [
       "<Figure size 432x288 with 1 Axes>"
      ]
     },
     "metadata": {
      "needs_background": "light"
     },
     "output_type": "display_data"
    },
    {
     "name": "stdout",
     "output_type": "stream",
     "text": [
      "Ttest_indResult(statistic=53.751692036304206, pvalue=7.110465285860583e-55)\n"
     ]
    },
    {
     "name": "stderr",
     "output_type": "stream",
     "text": [
      "C:\\Users\\USER\\AppData\\Local\\Temp\\ipykernel_14300\\375678559.py:55: SettingWithCopyWarning: \n",
      "A value is trying to be set on a copy of a slice from a DataFrame.\n",
      "Try using .loc[row_indexer,col_indexer] = value instead\n",
      "\n",
      "See the caveats in the documentation: https://pandas.pydata.org/pandas-docs/stable/user_guide/indexing.html#returning-a-view-versus-a-copy\n",
      "  df_tea_and_coffee['time-place'] = df_tea_and_coffee['time'].astype(str) +'-'+df_tea_and_coffee['Place']\n"
     ]
    },
    {
     "data": {
      "text/html": [
       "<div>\n",
       "<style scoped>\n",
       "    .dataframe tbody tr th:only-of-type {\n",
       "        vertical-align: middle;\n",
       "    }\n",
       "\n",
       "    .dataframe tbody tr th {\n",
       "        vertical-align: top;\n",
       "    }\n",
       "\n",
       "    .dataframe thead th {\n",
       "        text-align: right;\n",
       "    }\n",
       "</style>\n",
       "<table border=\"1\" class=\"dataframe\">\n",
       "  <thead>\n",
       "    <tr style=\"text-align: right;\">\n",
       "      <th></th>\n",
       "      <th>time-place</th>\n",
       "      <th>Tea - Retail</th>\n",
       "      <th>Coffee - Retail</th>\n",
       "    </tr>\n",
       "  </thead>\n",
       "  <tbody>\n",
       "    <tr>\n",
       "      <th>0</th>\n",
       "      <td>2013-05-01-National Average</td>\n",
       "      <td>14.0201</td>\n",
       "      <td>30.8937</td>\n",
       "    </tr>\n",
       "    <tr>\n",
       "      <th>1</th>\n",
       "      <td>2013-06-01-National Average</td>\n",
       "      <td>14.0003</td>\n",
       "      <td>31.0164</td>\n",
       "    </tr>\n",
       "    <tr>\n",
       "      <th>2</th>\n",
       "      <td>2013-11-01-National Average</td>\n",
       "      <td>14.1921</td>\n",
       "      <td>30.7445</td>\n",
       "    </tr>\n",
       "    <tr>\n",
       "      <th>3</th>\n",
       "      <td>2013-12-01-National Average</td>\n",
       "      <td>14.3991</td>\n",
       "      <td>30.9079</td>\n",
       "    </tr>\n",
       "    <tr>\n",
       "      <th>4</th>\n",
       "      <td>2014-01-01-National Average</td>\n",
       "      <td>15.2072</td>\n",
       "      <td>31.2607</td>\n",
       "    </tr>\n",
       "  </tbody>\n",
       "</table>\n",
       "</div>"
      ],
      "text/plain": [
       "                    time-place  Tea - Retail  Coffee - Retail\n",
       "0  2013-05-01-National Average       14.0201          30.8937\n",
       "1  2013-06-01-National Average       14.0003          31.0164\n",
       "2  2013-11-01-National Average       14.1921          30.7445\n",
       "3  2013-12-01-National Average       14.3991          30.9079\n",
       "4  2014-01-01-National Average       15.2072          31.2607"
      ]
     },
     "execution_count": 9,
     "metadata": {},
     "output_type": "execute_result"
    },
    {
     "data": {
      "image/png": "[encoded data removed]",
      "text/plain": [
       "<Figure size 432x288 with 1 Axes>"
      ]
     },
     "metadata": {
      "needs_background": "light"
     },
     "output_type": "display_data"
    }
   ],
   "source": [
    "#[Thực hành] Phân tích dữ liệu trên bộ dữ liệu FoodPrice in Turkey\n",
    "import pandas as pd\n",
    "from scipy import stats\n",
    "import matplotlib.pyplot as plt\n",
    "df = pd.read_csv('FoodPrice_in_Turkey.csv')\n",
    "#với mức ý nghĩa 5% kiểm định giả thuyết giá bán gạo trung bình năm 2019 là 10 Lira/kg\n",
    "#liệt kê tên các sản phẩm\n",
    "product_names = list(df['ProductName'].unique()) \n",
    "print(product_names)\n",
    "# Lọc những bản ghi liên quan tới giá gạo năm 2019\n",
    "df_rice = df.loc[(df.ProductName== 'Rice - Retail') & (df.Year == 2019)]\n",
    "print ('Số lượng bản ghi của gạo năm 2019: ' +str(df_rice.shape[0])) \n",
    "df_rice.Price.hist()\n",
    "#H0 = 9.5\n",
    "#H1 # 9.5\n",
    "print( stats.ttest_1samp(df_rice.Price, 9.5))\n",
    "#Giá trị pvalue >5% nên không đủ cơ sở để để bác bỏ giả thuyết không\n",
    "#Kết luận: Với mức ý nghĩa 5% có thể nhận định giá gạo trung bình bằng 9.5 Lira/kg\n",
    "\n",
    "# Với mức ý nghĩa 5% hãy kiểm định giả thuyết: Giá bột mỳ và giá gạo ở Turkey năm 2019 là bằng nhau\n",
    "\n",
    "# lấy thông tin bột mỳ năm 2019\n",
    "df_wheat = df.loc[(df.ProductName== 'Wheat flour - Retail') & (df.Year == 2019)]\n",
    "print ('Số lượng bản ghi của bột mỳ năm 2019: '+str(df_wheat.shape[0])) \n",
    "import seaborn as sns\n",
    "# Tạo boxplot so sánh phân bố của bột mỳ vào gao\n",
    "price = {'rice': list(df_rice[\"Price\"]), 'wheat': list(df_wheat['Price'])}\n",
    "df_price = pd.DataFrame(price)\n",
    "sns.boxplot(data=df_price)\n",
    "plt.show()\n",
    "#H0: giá bột mì và gạo là giống nhau\n",
    "print(stats.ttest_ind(price['rice'], price['wheat'], equal_var=False))\n",
    "#Chúng ta có thể thấy Pvalue = 7.1.10^-55 <<5%, bác bỏ giả thuyết không, chấp nhận giả thuyết đối\n",
    "#Kết luận: giá bột mỳ và giá gạo trung bình năm 2019 là khác nhau\n",
    "\n",
    "#Vẽ biểu đồ sự biến đổi giá gạo trung bình từ năm 1/2014 đến năm 1/2019 và tìm mối liên hệ giữa giá Trà và giá Cà phê\n",
    "\n",
    "# xóa những biến không cần thiết\n",
    "del (df_rice, df_price, df_wheat, price)\n",
    "# chuyển đổi dữ liệu ngày tháng\n",
    "df['time'] =  pd.to_datetime(df['Year'].astype(str) + '/'+df['Month'].astype(str))\n",
    "# thực hiện tính toán và vẽ giá trà, caffe theo tháng\n",
    "df_Tea_all = df.loc[(df.ProductName == 'Tea - Retail')]\n",
    "df_Tea_all_mean_by_month = df_Tea_all.groupby('time')['Price'].mean()\n",
    "plt.plot_date(df_Tea_all_mean_by_month.index, df_Tea_all_mean_by_month.values, linestyle ='solid')\n",
    "\n",
    "df_Coffee_all = df.loc[(df.ProductName == 'Coffee - Retail')]\n",
    "df_Coffee_all_mean_by_month = df_Coffee_all.groupby('time')['Price'].mean()\n",
    "plt.plot_date(df_Coffee_all_mean_by_month.index, df_Coffee_all_mean_by_month.values, linestyle ='solid')\n",
    "\n",
    "# Tiền xử lý dữ liệu\n",
    "# Tạo một data frame thông tin gồm chứa time - place, giá trà, giá cafe\n",
    "df_tea_and_coffee = df.loc[(df.ProductName.isin(['Tea - Retail','Coffee - Retail']))]\n",
    "\n",
    "df_tea_and_coffee['time-place'] = df_tea_and_coffee['time'].astype(str) +'-'+df_tea_and_coffee['Place']\n",
    "df1 = df_tea_and_coffee[df_tea_and_coffee.ProductName =='Tea - Retail'].filter(['time-place',  'Price'])\n",
    "df1 = df1.rename(columns = {'Price':'Tea - Retail'})\n",
    "\n",
    "df2 = df_tea_and_coffee[df_tea_and_coffee.ProductName =='Coffee - Retail'].filter(['time-place', 'Price'])\n",
    "df2 = df2.rename(columns = {'Price':'Coffee - Retail'})\n",
    "\n",
    "Processed_data = pd.merge(df1, df2, on = 'time-place')\n",
    "Processed_data.head()"
   ]
  }
 ],
 "metadata": {
  "kernelspec": {
   "display_name": "Python 3 (ipykernel)",
   "language": "python",
   "name": "python3"
  },
  "language_info": {
   "codemirror_mode": {
    "name": "ipython",
    "version": 3
   },
   "file_extension": ".py",
   "mimetype": "text/x-python",
   "name": "python",
   "nbconvert_exporter": "python",
   "pygments_lexer": "ipython3",
   "version": "3.10.4"
  }
 },
 "nbformat": 4,
 "nbformat_minor": 5
}
