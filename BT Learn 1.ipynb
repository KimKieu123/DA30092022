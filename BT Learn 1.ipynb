{
 "cells": [
  {
   "cell_type": "code",
   "execution_count": 10,
   "id": "4a92c8aa",
   "metadata": {},
   "outputs": [
    {
     "name": "stdout",
     "output_type": "stream",
     "text": [
      "['Rice - Retail', 'Wheat flour - Retail', 'Beans (white) - Retail', 'Potatoes - Retail', 'Eggs - Retail', 'Meat (chicken) - Retail', 'Sugar - Retail', 'Garlic - Retail', 'Lentils - Retail', 'Pasta - Retail', 'Tomatoes - Retail', 'Groundnuts (shelled) - Retail', 'Bread (common) - Retail', 'Coffee - Retail', 'Onions - Retail', 'Tea (green) - Retail', 'Cabbage - Retail', 'Meat (mutton) - Retail', 'Oil (sunflower) - Retail', 'Salt - Retail', 'Coffee (instant) - Retail', 'Peas (green, dry) - Retail', 'Apples (red) - Retail', 'Cauliflower - Retail', 'Cucumbers (greenhouse) - Retail', 'Oil (olive) - Retail', 'Chickpeas - Retail', 'Bananas - Retail', 'Bulgur - Retail', 'Tea - Retail', 'Fuel (petrol-gasoline) - Retail', 'Transport (public) - Retail', 'Tomatoes (paste) - Retail', 'Fuel (gas) - Retail', 'Apples - Retail', 'Oranges - Retail', 'Yogurt - Retail', 'Bread (pita) - Retail', 'Cucumbers - Retail', 'Fish (fresh) - Retail', 'Spinach - Retail', 'Cheese - Retail', 'Meat (veal) - Retail', 'Eggplants - Retail', 'Milk (powder, infant formula) - Retail', 'Zucchini - Retail', 'Milk (pasteurized) - Retail', 'Wage (non-qualified labour, non-agricultural) - Retail', 'Electricity - Retail', 'Tea (herbal) - Retail', 'Water - Retail', 'Cocoa (powder) - Retail']\n",
      "Số lượng bản ghi của gạo năm 2019: 48\n",
      "Ttest_1sampResult(statistic=-1.1854023812590566, pvalue=0.24181730968913567)\n",
      "Số lượng bản ghi của bột mỳ năm 2019: 48\n"
     ]
    },
    {
     "data": {
      "image/png": "[encoded data removed]",
      "text/plain": [
       "<Figure size 432x288 with 1 Axes>"
      ]
     },
     "metadata": {
      "needs_background": "light"
     },
     "output_type": "display_data"
    },
    {
     "name": "stdout",
     "output_type": "stream",
     "text": [
      "Ttest_indResult(statistic=53.751692036304206, pvalue=7.110465285860583e-55)\n"
     ]
    },
    {
     "name": "stderr",
     "output_type": "stream",
     "text": [
      "C:\\Users\\USER\\AppData\\Local\\Temp\\ipykernel_14300\\4236374372.py:55: SettingWithCopyWarning: \n",
      "A value is trying to be set on a copy of a slice from a DataFrame.\n",
      "Try using .loc[row_indexer,col_indexer] = value instead\n",
      "\n",
      "See the caveats in the documentation: https://pandas.pydata.org/pandas-docs/stable/user_guide/indexing.html#returning-a-view-versus-a-copy\n",
      "  df_tea_and_coffee['time-place'] = df_tea_and_coffee['time'].astype(str) +'-'+df_tea_and_coffee['Place']\n"
     ]
    },
    {
     "data": {
      "text/plain": [
       "WilcoxonResult(statistic=9838.0, pvalue=0.0004122034397612688)"
      ]
     },
     "execution_count": 10,
     "metadata": {},
     "output_type": "execute_result"
    },
    {
     "data": {
      "image/png": "[encoded data removed]",
      "text/plain": [
       "<Figure size 432x288 with 1 Axes>"
      ]
     },
     "metadata": {
      "needs_background": "light"
     },
     "output_type": "display_data"
    }
   ],
   "source": [
    "#[Thực hành] Phân tích dữ liệu trên bộ dữ liệu FoodPrice in Turkey\n",
    "import pandas as pd\n",
    "from scipy import stats\n",
    "import matplotlib.pyplot as plt\n",
    "df = pd.read_csv('FoodPrice_in_Turkey.csv')\n",
    "#với mức ý nghĩa 5% kiểm định giả thuyết giá bán gạo trung bình năm 2019 là 10 Lira/kg\n",
    "#liệt kê tên các sản phẩm\n",
    "product_names = list(df['ProductName'].unique()) \n",
    "print(product_names)\n",
    "# Lọc những bản ghi liên quan tới giá gạo năm 2019\n",
    "df_rice = df.loc[(df.ProductName== 'Rice - Retail') & (df.Year == 2019)]\n",
    "print ('Số lượng bản ghi của gạo năm 2019: ' +str(df_rice.shape[0])) \n",
    "df_rice.Price.hist()\n",
    "#H0 = 9.5\n",
    "#H1 # 9.5\n",
    "print( stats.ttest_1samp(df_rice.Price, 9.5))\n",
    "#Giá trị pvalue >5% nên không đủ cơ sở để để bác bỏ giả thuyết không\n",
    "#Kết luận: Với mức ý nghĩa 5% có thể nhận định giá gạo trung bình bằng 9.5 Lira/kg\n",
    "\n",
    "# Với mức ý nghĩa 5% hãy kiểm định giả thuyết: Giá bột mỳ và giá gạo ở Turkey năm 2019 là bằng nhau\n",
    "\n",
    "# lấy thông tin bột mỳ năm 2019\n",
    "df_wheat = df.loc[(df.ProductName== 'Wheat flour - Retail') & (df.Year == 2019)]\n",
    "print ('Số lượng bản ghi của bột mỳ năm 2019: '+str(df_wheat.shape[0])) \n",
    "import seaborn as sns\n",
    "# Tạo boxplot so sánh phân bố của bột mỳ vào gao\n",
    "price = {'rice': list(df_rice[\"Price\"]), 'wheat': list(df_wheat['Price'])}\n",
    "df_price = pd.DataFrame(price)\n",
    "sns.boxplot(data=df_price)\n",
    "plt.show()\n",
    "#H0: giá bột mì và gạo là giống nhau\n",
    "print(stats.ttest_ind(price['rice'], price['wheat'], equal_var=False))\n",
    "#Chúng ta có thể thấy Pvalue = 7.1.10^-55 <<5%, bác bỏ giả thuyết không, chấp nhận giả thuyết đối\n",
    "#Kết luận: giá bột mỳ và giá gạo trung bình năm 2019 là khác nhau\n",
    "\n",
    "#Vẽ biểu đồ sự biến đổi giá gạo trung bình từ năm 1/2014 đến năm 1/2019 và tìm mối liên hệ giữa giá Trà và giá Cà phê\n",
    "\n",
    "# xóa những biến không cần thiết\n",
    "del (df_rice, df_price, df_wheat, price)\n",
    "# chuyển đổi dữ liệu ngày tháng\n",
    "df['time'] =  pd.to_datetime(df['Year'].astype(str) + '/'+df['Month'].astype(str))\n",
    "# thực hiện tính toán và vẽ giá trà, caffe theo tháng\n",
    "df_Tea_all = df.loc[(df.ProductName == 'Tea - Retail')]\n",
    "df_Tea_all_mean_by_month = df_Tea_all.groupby('time')['Price'].mean()\n",
    "plt.plot_date(df_Tea_all_mean_by_month.index, df_Tea_all_mean_by_month.values, linestyle ='solid')\n",
    "\n",
    "df_Coffee_all = df.loc[(df.ProductName == 'Coffee - Retail')]\n",
    "df_Coffee_all_mean_by_month = df_Coffee_all.groupby('time')['Price'].mean()\n",
    "plt.plot_date(df_Coffee_all_mean_by_month.index, df_Coffee_all_mean_by_month.values, linestyle ='solid')\n",
    "\n",
    "# Tiền xử lý dữ liệu\n",
    "# Tạo một data frame thông tin gồm chứa time - place, giá trà, giá cafe\n",
    "df_tea_and_coffee = df.loc[(df.ProductName.isin(['Tea - Retail','Coffee - Retail']))]\n",
    "\n",
    "df_tea_and_coffee['time-place'] = df_tea_and_coffee['time'].astype(str) +'-'+df_tea_and_coffee['Place']\n",
    "df1 = df_tea_and_coffee[df_tea_and_coffee.ProductName =='Tea - Retail'].filter(['time-place',  'Price'])\n",
    "df1 = df1.rename(columns = {'Price':'Tea - Retail'})\n",
    "\n",
    "df2 = df_tea_and_coffee[df_tea_and_coffee.ProductName =='Coffee - Retail'].filter(['time-place', 'Price'])\n",
    "df2 = df2.rename(columns = {'Price':'Coffee - Retail'})\n",
    "\n",
    "Processed_data = pd.merge(df1, df2, on = 'time-place')\n",
    "Processed_data.head()\n",
    "\n",
    "#Giả thuyết không: giá cà phê bằng giá trà công thêm 15 Lira ở mọi thời điểm\n",
    "#Giả thuyết đối: Giá giá cà phê luôn hơn giá trà 15 Lira ở mọi thời điểm\n",
    "\n",
    "# thực hiện biến đổi dữ liệu\n",
    "d = Processed_data['Coffee - Retail']-Processed_data['Tea - Retail'] - 15\n",
    "# Thực hiện kiểm định wilcolxon\n",
    "from scipy import stats\n",
    "# thực hiện kiểm định với giả thuyết đối được định nghĩa ở trên\n",
    "stats.wilcoxon(d, alternative='greater')\n",
    "\n",
    "#Do pvalue <1% rất nhiều –> Bác bỏ giả thuyết không, chấp nhận giả thuyết đối \n",
    "#Giá Cà phê luôn lớn hơn giá trà ít nhất 15 lira mà không bị ảnh hưởng bởi thời gian hay địa điểm"
   ]
  },
  {
   "cell_type": "code",
   "execution_count": null,
   "id": "ca79ca24",
   "metadata": {},
   "outputs": [],
   "source": []
  },
  {
   "cell_type": "code",
   "execution_count": null,
   "id": "611357b0",
   "metadata": {},
   "outputs": [],
   "source": [
    "#[Thực hành] phân tích dữ liệu trên bộ dữ liệu Quản lý chất lượng\n",
    "#Yêu cầu: Tiến hành viết giả thuyết kiểm định về chất lượng sản phẩm với mức ý nghĩa 0.01.\n",
    "import pandas as pd\n",
    "from scipy import stats\n",
    "import matplotlib.pyplot as plt\n",
    "df = pd.read_excel('data\\Quality.xlsx')\n",
    "print(df.head())\n",
    "df.info()\n",
    "# Tiền xử lý dữ liệu\n",
    "# gom hết dữ liệu của 4 mẫu thành 1 mảng duy nhất\n",
    "sample = list()\n",
    "for i in df.columns:\n",
    "    sample.extend(df[i].tolist())\n",
    "\n",
    "# tiến hành mô tả dữ liệu mẫu\n",
    "df = pd.DataFrame(columns=['sample'], data= sample) \n",
    "df.describe()\n",
    "#Giả thuyết không: khối lượng trung bình của sản phẩm = 12\n",
    "#Giả thuyết đối: Khối lượng trung bình của sản phẩm # 12\n",
    "print (stats.ttest_1samp(sample,12))\n",
    "#Do pvalue > 0.01 –> Chấp nhận giả thuyết 0."
   ]
  },
  {
   "cell_type": "code",
   "execution_count": 13,
   "id": "04c235a4",
   "metadata": {},
   "outputs": [
    {
     "name": "stdout",
     "output_type": "stream",
     "text": [
      "5 bản ghi đầu tiên của bộ dữ liệu \n",
      "     Ohio  Atlanta\n",
      "STT               \n",
      "1    0.88     3.85\n",
      "2    2.06     0.00\n",
      "3    0.00     0.00\n",
      "4    0.70     0.02\n",
      "5    1.64     0.58\n",
      "thông tin bộ dữ liệu\n",
      "<class 'pandas.core.frame.DataFrame'>\n",
      "Int64Index: 50 entries, 1 to 50\n",
      "Data columns (total 2 columns):\n",
      " #   Column   Non-Null Count  Dtype  \n",
      "---  ------   --------------  -----  \n",
      " 0   Ohio     50 non-null     float64\n",
      " 1   Atlanta  50 non-null     float64\n",
      "dtypes: float64(2)\n",
      "memory usage: 1.2 KB\n",
      "None\n",
      "mô tả bộ dữ liệu\n",
      "            Ohio    Atlanta\n",
      "count  50.000000  50.000000\n",
      "mean    1.746800   1.614800\n",
      "std     1.092211   1.061068\n",
      "min     0.000000   0.000000\n",
      "25%     0.835000   0.682500\n",
      "50%     1.615000   1.495000\n",
      "75%     2.350000   2.402500\n",
      "max     5.000000   3.860000\n",
      "Ttest_indResult(statistic=0.6129544104328379, pvalue=0.5413275550760535)\n"
     ]
    },
    {
     "data": {
      "image/png": "[encoded data removed]",
      "text/plain": [
       "<Figure size 432x288 with 1 Axes>"
      ]
     },
     "metadata": {
      "needs_background": "light"
     },
     "output_type": "display_data"
    }
   ],
   "source": [
    "import pandas as pd\n",
    "from scipy import  stats\n",
    "import matplotlib.pyplot as plt\n",
    "df = pd.read_excel(\"Coca_cola_use.xlsx\", index_col= 'STT')\n",
    "print (\"5 bản ghi đầu tiên của bộ dữ liệu \")\n",
    "print (df.head())\n",
    "print (\"thông tin bộ dữ liệu\")\n",
    "print (df.info())\n",
    "print (\"mô tả bộ dữ liệu\")\n",
    "print (df.describe())\n",
    "df.boxplot()\n",
    "#Giả thuyết không: a1-a2 =0\n",
    "#Giả thuyết đối: a1-a2>0\n",
    "#mức ý nghĩa 5%\n",
    "#Loại kiểm định Independent T test\n",
    "print (stats.ttest_ind(df.Ohio, df.Atlanta,equal_var=False))\n",
    "#Chúng ta nhìn thấy rằng: pvalue > 5% rất nhiều nên không đủ cơ sở để bác bỏ giả thuyết không\n",
    "#Kết luận: Không đủ căn cứ để kết luận rằng lượng tiêu thụ coca trung bình ở Ohio lớn hơn ở Atlanta"
   ]
  },
  {
   "cell_type": "code",
   "execution_count": 4,
   "id": "dd7968be",
   "metadata": {},
   "outputs": [
    {
     "name": "stdout",
     "output_type": "stream",
     "text": [
      "<class 'pandas.core.frame.DataFrame'>\n",
      "RangeIndex: 125 entries, 0 to 124\n",
      "Data columns (total 3 columns):\n",
      " #   Column                 Non-Null Count  Dtype \n",
      "---  ------                 --------------  ----- \n",
      " 0   Country                125 non-null    object\n",
      " 1   Continent              125 non-null    object\n",
      " 2   GDP (millions of US$)  125 non-null    int64 \n",
      "dtypes: int64(1), object(2)\n",
      "memory usage: 3.1+ KB\n",
      "None\n",
      "Ttest_1sampResult(statistic=0.3757438669518338, pvalue=0.7077493494055246)\n",
      "-0.5586877419842816 0.7109336599036772\n",
      "Ttest_indResult(statistic=0.7882914270473153, pvalue=0.43961393931830917)\n"
     ]
    }
   ],
   "source": [
    "import pandas as pd\n",
    "from scipy import stats\n",
    "import matplotlib.pyplot as plt\n",
    "df = pd.read_csv('GDPlist.csv',encoding = \"ISO-8859-1\")\n",
    "print(df.info())\n",
    "#Trung bình GDP của các quốc gia trên thế giới là 500 tỉ usd/năm\n",
    "#H0: Trung bình GDP của các quốc gia trên thế giới là 500 tỉ usd/năm\n",
    "#H1: Trung bình GDP của các quốc gia trên thế giới không là 500 tỉ usd/năm\n",
    "print( stats.ttest_1samp(df[\"GDP (millions of US$)\"], popmean=500000))\n",
    "#pvalue = 71% --> H0 tương đối chính xác với xác suất chính xác tối thiểu là 70%\n",
    "\n",
    "#GDP trung bình ở các quốc gia ở châu Âu cao hơn châu Á không\n",
    "#H0: trung bình ở các quốc gia ở châu Âu cao hơn châu Á\n",
    "#H1: trung bình ở các quốc gia ở châu Âu không cao hơn châu Á\n",
    "\n",
    "euro = df.query(\"Continent == 'Europe'\")['GDP (millions of US$)']\n",
    "asia = df.query(\"Continent == 'Asia'\")['GDP (millions of US$)']\n",
    "tstatic, pvalue = stats.ttest_ind(euro, asia, alternative='greater')\n",
    "print(tstatic, pvalue)\n",
    "#Kết luận: các nước châu âu giàu hơn châu á với xác suất chính xác nhỏ nhất là 71%\n",
    "\n",
    "#GDP trung bình của các quốc gia ở châu Âu và châu Mỹ là bằng nhau\n",
    "#H0: GDP trung bình của các quốc gia ở châu Âu và châu Mỹ là bằng nhau\n",
    "#H1: GDP trung bình của các quốc gia ở châu Âu và châu Mỹ là không bằng nhau\n",
    "a = ['South America', 'North America']\n",
    "america = df.query(\"Continent in @a\")['GDP (millions of US$)']\n",
    "print(stats.ttest_ind(america, euro, equal_var=False))\n",
    "#Kết luận: Không thể kết luận châu và châu Mỹ có GDP bằng nhau"
   ]
  },
  {
   "cell_type": "code",
   "execution_count": 24,
   "id": "8c46e807",
   "metadata": {},
   "outputs": [
    {
     "name": "stdout",
     "output_type": "stream",
     "text": [
      "Ttest_indResult(statistic=7.583860613033518, pvalue=6.44185782026874e-14)\n",
      "Ttest_indResult(statistic=-2.1462117638680636, pvalue=0.016128906608806812)\n"
     ]
    },
    {
     "data": {
      "image/png": "[encoded data removed]",
      "text/plain": [
       "<Figure size 432x288 with 1 Axes>"
      ]
     },
     "metadata": {
      "needs_background": "light"
     },
     "output_type": "display_data"
    }
   ],
   "source": [
    "#[Bài tập] Kiểm định House Price Đống Đa Hà Nội\n",
    "import pandas as pd\n",
    "from scipy import stats\n",
    "import matplotlib.pyplot as plt\n",
    "import seaborn as sns\n",
    "data=pd.read_csv('house_price_Dống-Da_Hà-Nội_subdata.csv')\n",
    "data[\"triệu đ/m2\"] = data.price/data.area\n",
    "data.drop(data.loc[data[\"area\"] == 0].index,axis = 0,inplace = True)\n",
    "data.dropna(subset=['triệu đ/m2'],inplace=True)\n",
    "data['land_certificate'] = data['land_certificate'].fillna(\"0\")\n",
    "#Vẽ biểu đồ so sánh phân phối giá (triệu đ/m2) giữa nhà Phố và Nhà ngõ\n",
    "nhapho = data.query(\"property_type == 'mat pho'\")['triệu đ/m2']\n",
    "nhango = data.query(\"property_type == 'trong ngo'\")['triệu đ/m2']\n",
    "sns.kdeplot(nhapho)\n",
    "sns.kdeplot(nhango);\n",
    "\n",
    "#Kiểm định giả thuyết giá (triệu đ/m2) nhà mặt phố cao hơn giá nhà trong ngõ với mức ý nghĩa 5%\n",
    "#H0: giả thuyết giá (triệu đ/m2) nhà mặt phố cao hơn giá nhà trong ngõ\n",
    "#H1: giả thuyết giá (triệu đ/m2) nhà mặt phố không cao hơn giá nhà trong ngõ\n",
    "\n",
    "print(stats.ttest_ind(nhapho, nhango, alternative='greater'))\n",
    "\n",
    "#Ho sai. kết luận: nhà mặt phố không cao hơn giá nhà trong ngõ\n",
    "\n",
    "#Giá của những căn nhà không có thông tin về giấy tờ pháp lý thấp hơn giá nhà những căn có thông tin về giấy tờ pháp lý \n",
    "#với mức ý nghĩa 5%\n",
    "#H0: nhà không có thông tin về giấy tờ pháp lý thấp hơn giá nhà những căn có thông tin về giấy tờ pháp lý \n",
    "#H1: nhà không có thông tin về giấy tờ pháp lý ko thấp hơn giá nhà những căn có thông tin về giấy tờ pháp lý \n",
    "land_certificate = data.query(\"land_certificate == 'So do'\")['triệu đ/m2']\n",
    "not_certificate = data.query(\"land_certificate == '0'\")['triệu đ/m2']\n",
    "print(stats.ttest_ind(land_certificate, not_certificate, alternative='less'))\n",
    "##Ho sai. kết luận: nhà không có thông tin về giấy tờ pháp lý ko thấp hơn giá nhà những căn có thông tin về giấy tờ pháp lý "
   ]
  },
  {
   "cell_type": "code",
   "execution_count": 35,
   "id": "6f74d91e",
   "metadata": {},
   "outputs": [
    {
     "name": "stdout",
     "output_type": "stream",
     "text": [
      "Ttest_indResult(statistic=-12.472535446813929, pvalue=5.4475951849119754e-36)\n",
      "Ttest_indResult(statistic=-9.533971212477503, pvalue=1.0)\n"
     ]
    }
   ],
   "source": [
    "#[Bài tập] Kiểm định giả thuyết trên bộ dữ liệu credit scoring\n",
    "import pandas as pd\n",
    "from scipy import stats\n",
    "import matplotlib.pyplot as plt\n",
    "import seaborn as sns\n",
    "df = pd.read_csv(\"Credit_Scoring.csv\", encoding = \"ISO-8859-1\")\n",
    "df.dropna(subset=['NumberOfDependents'],inplace=True)\n",
    "df.dropna(subset=['MonthlyIncome'],inplace=True)\n",
    "\n",
    "#Có phải những khách hàng không có người phụ thuộc sẽ có thu nhập trung bình theo tháng (MonthlyIncome)\n",
    "#nhỏ hơn những khách hàng có người phụ thuộc không (với mức ý nghĩa 10%)\n",
    "#H0: khách hàng không có người phụ thuộc sẽ có thu nhập nhỏ hơn những khách hàng có người phụ thuộc\n",
    "#H1: khách hàng không có người phụ thuộc sẽ có thu nhập không nhỏ hơn những khách hàng có người phụ thuộc\n",
    "\n",
    "Dependent = df.query(\"NumberOfDependents != 'So do'\")['MonthlyIncome']\n",
    "not_Dependent = df.query(\"NumberOfDependents == 0\")['MonthlyIncome']\n",
    "print(stats.ttest_ind(not_Dependent, Dependent, alternative='less'))\n",
    "#H0 sai: khách hàng không có người phụ thuộc sẽ có thu nhập không nhỏ hơn những khách hàng có người phụ thuộc\n",
    "\n",
    "#Có phải trung bình số lượng khoản vay (NumberOfOpenCreditLinesAndLoans) những khách hàng gặp khó khăn trong vòng 2 năm trở lại đây (SeriousDlqin2yrs =1) \n",
    "#thì sẽ cao hơn những khách hàng không gặp khó khăn không với mức ý nghĩa 10%\n",
    "#H0: trung bình số lượng khoản vay những khách hàng gặp khó khăn trong vòng 2 năm trở lại đây cao hơn\n",
    "#H1: trung bình số lượng khoản vay những khách hàng gặp khó khăn trong vòng 2 năm trở lại đây không cao hơn\n",
    "SeriousDlqin2yrs = df.query(\"SeriousDlqin2yrs == 1\")['NumberOfOpenCreditLinesAndLoans']\n",
    "Not_SeriousDlqin2yrs = df.query(\"SeriousDlqin2yrs == 0\")['NumberOfOpenCreditLinesAndLoans']\n",
    "print(stats.ttest_ind(SeriousDlqin2yrs, Not_SeriousDlqin2yrs, alternative='greater'))\n",
    "#H0 sai : trung bình số lượng khoản vay những khách hàng gặp khó khăn trong vòng 2 năm trở lại đây không cao hơn"
   ]
  },
  {
   "cell_type": "code",
   "execution_count": 31,
   "id": "803318a5",
   "metadata": {},
   "outputs": [
    {
     "name": "stdout",
     "output_type": "stream",
     "text": [
      "<class 'pandas.core.frame.DataFrame'>\n",
      "RangeIndex: 149992 entries, 0 to 149991\n",
      "Data columns (total 12 columns):\n",
      " #   Column                                Non-Null Count   Dtype  \n",
      "---  ------                                --------------   -----  \n",
      " 0   Unnamed: 0                            149992 non-null  int64  \n",
      " 1   SeriousDlqin2yrs                      149992 non-null  int64  \n",
      " 2   RevolvingUtilizationOfUnsecuredLines  149992 non-null  float64\n",
      " 3   age                                   149992 non-null  int64  \n",
      " 4   NumberOfTime30-59DaysPastDueNotWorse  149992 non-null  int64  \n",
      " 5   DebtRatio                             149992 non-null  float64\n",
      " 6   MonthlyIncome                         120262 non-null  float64\n",
      " 7   NumberOfOpenCreditLinesAndLoans       149992 non-null  int64  \n",
      " 8   NumberOfTimes90DaysLate               149992 non-null  int64  \n",
      " 9   NumberRealEstateLoansOrLines          149992 non-null  int64  \n",
      " 10  NumberOfTime60-89DaysPastDueNotWorse  149992 non-null  int64  \n",
      " 11  NumberOfDependents                    146068 non-null  float64\n",
      "dtypes: float64(4), int64(8)\n",
      "memory usage: 13.7 MB\n"
     ]
    }
   ],
   "source": [
    "df.info()"
   ]
  },
  {
   "cell_type": "code",
   "execution_count": 9,
   "id": "102bca8e",
   "metadata": {},
   "outputs": [
    {
     "data": {
      "text/plain": [
       "5      217.073171\n",
       "72      93.939394\n",
       "73     119.607843\n",
       "75      93.939394\n",
       "76     109.090909\n",
       "          ...    \n",
       "662    200.000000\n",
       "664    401.315789\n",
       "666    139.880952\n",
       "668    291.666667\n",
       "669    551.111111\n",
       "Name: triệu đ/m2, Length: 256, dtype: float64"
      ]
     },
     "execution_count": 9,
     "metadata": {},
     "output_type": "execute_result"
    }
   ],
   "source": []
  }
 ],
 "metadata": {
  "kernelspec": {
   "display_name": "Python 3 (ipykernel)",
   "language": "python",
   "name": "python3"
  },
  "language_info": {
   "codemirror_mode": {
    "name": "ipython",
    "version": 3
   },
   "file_extension": ".py",
   "mimetype": "text/x-python",
   "name": "python",
   "nbconvert_exporter": "python",
   "pygments_lexer": "ipython3",
   "version": "3.10.4"
  }
 },
 "nbformat": 4,
 "nbformat_minor": 5
}
